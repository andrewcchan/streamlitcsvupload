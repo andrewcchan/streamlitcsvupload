{
 "cells": [
  {
   "cell_type": "code",
   "execution_count": 1,
   "metadata": {},
   "outputs": [],
   "source": [
    "# https://stackoverflow.com/questions/19548957/can-i-force-pip-to-reinstall-the-current-version\n",
    "import pandas as pd\n",
    "\n",
    "df = pd.read_csv('data.csv')"
   ]
  },
  {
   "cell_type": "code",
   "execution_count": 2,
   "metadata": {},
   "outputs": [
    {
     "data": {
      "text/html": [
       "<div>\n",
       "<style scoped>\n",
       "    .dataframe tbody tr th:only-of-type {\n",
       "        vertical-align: middle;\n",
       "    }\n",
       "\n",
       "    .dataframe tbody tr th {\n",
       "        vertical-align: top;\n",
       "    }\n",
       "\n",
       "    .dataframe thead th {\n",
       "        text-align: right;\n",
       "    }\n",
       "</style>\n",
       "<table border=\"1\" class=\"dataframe\">\n",
       "  <thead>\n",
       "    <tr style=\"text-align: right;\">\n",
       "      <th></th>\n",
       "      <th>Date</th>\n",
       "      <th>Value</th>\n",
       "    </tr>\n",
       "  </thead>\n",
       "  <tbody>\n",
       "    <tr>\n",
       "      <th>0</th>\n",
       "      <td>2024-01-01</td>\n",
       "      <td>12</td>\n",
       "    </tr>\n",
       "    <tr>\n",
       "      <th>1</th>\n",
       "      <td>2024-03-01</td>\n",
       "      <td>24</td>\n",
       "    </tr>\n",
       "    <tr>\n",
       "      <th>2</th>\n",
       "      <td>2024-04-01</td>\n",
       "      <td>24</td>\n",
       "    </tr>\n",
       "    <tr>\n",
       "      <th>3</th>\n",
       "      <td>2024-05-01</td>\n",
       "      <td>27</td>\n",
       "    </tr>\n",
       "    <tr>\n",
       "      <th>4</th>\n",
       "      <td>2024-06-01</td>\n",
       "      <td>40</td>\n",
       "    </tr>\n",
       "    <tr>\n",
       "      <th>5</th>\n",
       "      <td>2024-07-01</td>\n",
       "      <td>50</td>\n",
       "    </tr>\n",
       "  </tbody>\n",
       "</table>\n",
       "</div>"
      ],
      "text/plain": [
       "         Date  Value\n",
       "0  2024-01-01     12\n",
       "1  2024-03-01     24\n",
       "2  2024-04-01     24\n",
       "3  2024-05-01     27\n",
       "4  2024-06-01     40\n",
       "5  2024-07-01     50"
      ]
     },
     "execution_count": 2,
     "metadata": {},
     "output_type": "execute_result"
    }
   ],
   "source": [
    "df"
   ]
  },
  {
   "cell_type": "code",
   "execution_count": 3,
   "metadata": {},
   "outputs": [
    {
     "name": "stdout",
     "output_type": "stream",
     "text": [
      "<class 'pandas.core.frame.DataFrame'>\n",
      "RangeIndex: 6 entries, 0 to 5\n",
      "Data columns (total 2 columns):\n",
      " #   Column  Non-Null Count  Dtype \n",
      "---  ------  --------------  ----- \n",
      " 0   Date    6 non-null      object\n",
      " 1   Value   6 non-null      int64 \n",
      "dtypes: int64(1), object(1)\n",
      "memory usage: 228.0+ bytes\n"
     ]
    }
   ],
   "source": [
    "df.info()"
   ]
  },
  {
   "cell_type": "code",
   "execution_count": 4,
   "metadata": {},
   "outputs": [
    {
     "data": {
      "text/html": [
       "<div>\n",
       "<style scoped>\n",
       "    .dataframe tbody tr th:only-of-type {\n",
       "        vertical-align: middle;\n",
       "    }\n",
       "\n",
       "    .dataframe tbody tr th {\n",
       "        vertical-align: top;\n",
       "    }\n",
       "\n",
       "    .dataframe thead th {\n",
       "        text-align: right;\n",
       "    }\n",
       "</style>\n",
       "<table border=\"1\" class=\"dataframe\">\n",
       "  <thead>\n",
       "    <tr style=\"text-align: right;\">\n",
       "      <th></th>\n",
       "      <th>Date</th>\n",
       "      <th>Value</th>\n",
       "    </tr>\n",
       "  </thead>\n",
       "  <tbody>\n",
       "    <tr>\n",
       "      <th>0</th>\n",
       "      <td>2024-01-01</td>\n",
       "      <td>12</td>\n",
       "    </tr>\n",
       "    <tr>\n",
       "      <th>1</th>\n",
       "      <td>2024-03-01</td>\n",
       "      <td>24</td>\n",
       "    </tr>\n",
       "    <tr>\n",
       "      <th>2</th>\n",
       "      <td>2024-04-01</td>\n",
       "      <td>24</td>\n",
       "    </tr>\n",
       "    <tr>\n",
       "      <th>3</th>\n",
       "      <td>2024-05-01</td>\n",
       "      <td>27</td>\n",
       "    </tr>\n",
       "    <tr>\n",
       "      <th>4</th>\n",
       "      <td>2024-06-01</td>\n",
       "      <td>40</td>\n",
       "    </tr>\n",
       "    <tr>\n",
       "      <th>5</th>\n",
       "      <td>2024-07-01</td>\n",
       "      <td>50</td>\n",
       "    </tr>\n",
       "  </tbody>\n",
       "</table>\n",
       "</div>"
      ],
      "text/plain": [
       "        Date  Value\n",
       "0 2024-01-01     12\n",
       "1 2024-03-01     24\n",
       "2 2024-04-01     24\n",
       "3 2024-05-01     27\n",
       "4 2024-06-01     40\n",
       "5 2024-07-01     50"
      ]
     },
     "execution_count": 4,
     "metadata": {},
     "output_type": "execute_result"
    }
   ],
   "source": [
    "df['Date'] = pd.to_datetime(df['Date'])\n",
    "\n",
    "df"
   ]
  },
  {
   "cell_type": "code",
   "execution_count": 5,
   "metadata": {},
   "outputs": [
    {
     "name": "stdout",
     "output_type": "stream",
     "text": [
      "<class 'pandas.core.frame.DataFrame'>\n",
      "RangeIndex: 6 entries, 0 to 5\n",
      "Data columns (total 2 columns):\n",
      " #   Column  Non-Null Count  Dtype         \n",
      "---  ------  --------------  -----         \n",
      " 0   Date    6 non-null      datetime64[ns]\n",
      " 1   Value   6 non-null      int64         \n",
      "dtypes: datetime64[ns](1), int64(1)\n",
      "memory usage: 228.0 bytes\n"
     ]
    }
   ],
   "source": [
    "df.info()"
   ]
  },
  {
   "cell_type": "code",
   "execution_count": 6,
   "metadata": {},
   "outputs": [
    {
     "data": {
      "text/plain": [
       "[<matplotlib.lines.Line2D at 0x10fdd1f50>]"
      ]
     },
     "execution_count": 6,
     "metadata": {},
     "output_type": "execute_result"
    },
    {
     "data": {
      "image/png": "[encoded data removed]",
      "text/plain": [
       "<Figure size 640x480 with 1 Axes>"
      ]
     },
     "metadata": {},
     "output_type": "display_data"
    }
   ],
   "source": [
    "import matplotlib.pyplot as plt\n",
    "\n",
    "plt.plot(df['Date'], df['Value'])"
   ]
  },
  {
   "cell_type": "code",
   "execution_count": 7,
   "metadata": {},
   "outputs": [
    {
     "data": {
      "text/plain": [
       "array([12, 24, 24, 27, 40, 50])"
      ]
     },
     "execution_count": 7,
     "metadata": {},
     "output_type": "execute_result"
    }
   ],
   "source": [
    "df['Value'].values"
   ]
  },
  {
   "cell_type": "code",
   "execution_count": 8,
   "metadata": {},
   "outputs": [
    {
     "name": "stdout",
     "output_type": "stream",
     "text": [
      "                               SARIMAX Results                                \n",
      "==============================================================================\n",
      "Dep. Variable:                      y   No. Observations:                    6\n",
      "Model:                          ARIMA   Log Likelihood                 -23.557\n",
      "Date:                Wed, 11 Sep 2024   AIC                             51.114\n",
      "Time:                        10:24:58   BIC                             50.698\n",
      "Sample:                             0   HQIC                            49.447\n",
      "                                  - 6                                         \n",
      "Covariance Type:                  opg                                         \n",
      "==============================================================================\n",
      "                 coef    std err          z      P>|z|      [0.025      0.975]\n",
      "------------------------------------------------------------------------------\n",
      "const         29.5000      5.350      5.514      0.000      19.014      39.986\n",
      "sigma2       150.5844    125.742      1.198      0.231     -95.866     397.035\n",
      "===================================================================================\n",
      "Ljung-Box (L1) (Q):                   1.27   Jarque-Bera (JB):                 0.34\n",
      "Prob(Q):                              0.26   Prob(JB):                         0.84\n",
      "Heteroskedasticity (H):               1.58   Skew:                             0.37\n",
      "Prob(H) (two-sided):                  0.78   Kurtosis:                         2.09\n",
      "===================================================================================\n",
      "\n",
      "Warnings:\n",
      "[1] Covariance matrix calculated using the outer product of gradients (complex-step).\n"
     ]
    }
   ],
   "source": [
    "import pandas as pd\n",
    "import statsmodels.api as sm\n",
    "from statsmodels.tsa.arima.model import ARIMA\n",
    "\n",
    "# Load your time series data\n",
    "data = pd.read_csv('data.csv', index_col='Date', parse_dates=True)\n",
    "\n",
    "# Fit the ARIMA model\n",
    "model = ARIMA(df['Value'].values)  # Replace p, d, q with appropriate values\n",
    "model_fit = model.fit()\n",
    "\n",
    "# Make predictions\n",
    "predictions = model_fit.forecast(steps=1)  # Forecast the next 10 periods\n",
    "\n",
    "# Print model summary\n",
    "print(model_fit.summary())"
   ]
  },
  {
   "cell_type": "code",
   "execution_count": 10,
   "metadata": {},
   "outputs": [
    {
     "ename": "ValueError",
     "evalue": "Mime type rendering requires nbformat>=4.2.0 but it is not installed",
     "output_type": "error",
     "traceback": [
      "\u001b[0;31m---------------------------------------------------------------------------\u001b[0m",
      "\u001b[0;31mValueError\u001b[0m                                Traceback (most recent call last)",
      "File \u001b[0;32m~/Documents/github-local/streamlitcsvupload/python_env/lib/python3.11/site-packages/IPython/core/formatters.py:925\u001b[0m, in \u001b[0;36mIPythonDisplayFormatter.__call__\u001b[0;34m(self, obj)\u001b[0m\n\u001b[1;32m    923\u001b[0m method \u001b[38;5;241m=\u001b[39m get_real_method(obj, \u001b[38;5;28mself\u001b[39m\u001b[38;5;241m.\u001b[39mprint_method)\n\u001b[1;32m    924\u001b[0m \u001b[38;5;28;01mif\u001b[39;00m method \u001b[38;5;129;01mis\u001b[39;00m \u001b[38;5;129;01mnot\u001b[39;00m \u001b[38;5;28;01mNone\u001b[39;00m:\n\u001b[0;32m--> 925\u001b[0m     \u001b[43mmethod\u001b[49m\u001b[43m(\u001b[49m\u001b[43m)\u001b[49m\n\u001b[1;32m    926\u001b[0m     \u001b[38;5;28;01mreturn\u001b[39;00m \u001b[38;5;28;01mTrue\u001b[39;00m\n",
      "File \u001b[0;32m~/Documents/github-local/streamlitcsvupload/python_env/lib/python3.11/site-packages/plotly/basedatatypes.py:832\u001b[0m, in \u001b[0;36mBaseFigure._ipython_display_\u001b[0;34m(self)\u001b[0m\n\u001b[1;32m    829\u001b[0m \u001b[38;5;28;01mimport\u001b[39;00m \u001b[38;5;21;01mplotly\u001b[39;00m\u001b[38;5;21;01m.\u001b[39;00m\u001b[38;5;21;01mio\u001b[39;00m \u001b[38;5;28;01mas\u001b[39;00m \u001b[38;5;21;01mpio\u001b[39;00m\n\u001b[1;32m    831\u001b[0m \u001b[38;5;28;01mif\u001b[39;00m pio\u001b[38;5;241m.\u001b[39mrenderers\u001b[38;5;241m.\u001b[39mrender_on_display \u001b[38;5;129;01mand\u001b[39;00m pio\u001b[38;5;241m.\u001b[39mrenderers\u001b[38;5;241m.\u001b[39mdefault:\n\u001b[0;32m--> 832\u001b[0m     \u001b[43mpio\u001b[49m\u001b[38;5;241;43m.\u001b[39;49m\u001b[43mshow\u001b[49m\u001b[43m(\u001b[49m\u001b[38;5;28;43mself\u001b[39;49m\u001b[43m)\u001b[49m\n\u001b[1;32m    833\u001b[0m \u001b[38;5;28;01melse\u001b[39;00m:\n\u001b[1;32m    834\u001b[0m     \u001b[38;5;28mprint\u001b[39m(\u001b[38;5;28mrepr\u001b[39m(\u001b[38;5;28mself\u001b[39m))\n",
      "File \u001b[0;32m~/Documents/github-local/streamlitcsvupload/python_env/lib/python3.11/site-packages/plotly/io/_renderers.py:394\u001b[0m, in \u001b[0;36mshow\u001b[0;34m(fig, renderer, validate, **kwargs)\u001b[0m\n\u001b[1;32m    389\u001b[0m         \u001b[38;5;28;01mraise\u001b[39;00m \u001b[38;5;167;01mValueError\u001b[39;00m(\n\u001b[1;32m    390\u001b[0m             \u001b[38;5;124m\"\u001b[39m\u001b[38;5;124mMime type rendering requires ipython but it is not installed\u001b[39m\u001b[38;5;124m\"\u001b[39m\n\u001b[1;32m    391\u001b[0m         )\n\u001b[1;32m    393\u001b[0m     \u001b[38;5;28;01mif\u001b[39;00m \u001b[38;5;129;01mnot\u001b[39;00m nbformat \u001b[38;5;129;01mor\u001b[39;00m Version(nbformat\u001b[38;5;241m.\u001b[39m__version__) \u001b[38;5;241m<\u001b[39m Version(\u001b[38;5;124m\"\u001b[39m\u001b[38;5;124m4.2.0\u001b[39m\u001b[38;5;124m\"\u001b[39m):\n\u001b[0;32m--> 394\u001b[0m         \u001b[38;5;28;01mraise\u001b[39;00m \u001b[38;5;167;01mValueError\u001b[39;00m(\n\u001b[1;32m    395\u001b[0m             \u001b[38;5;124m\"\u001b[39m\u001b[38;5;124mMime type rendering requires nbformat>=4.2.0 but it is not installed\u001b[39m\u001b[38;5;124m\"\u001b[39m\n\u001b[1;32m    396\u001b[0m         )\n\u001b[1;32m    398\u001b[0m     ipython_display\u001b[38;5;241m.\u001b[39mdisplay(bundle, raw\u001b[38;5;241m=\u001b[39m\u001b[38;5;28;01mTrue\u001b[39;00m)\n\u001b[1;32m    400\u001b[0m \u001b[38;5;66;03m# external renderers\u001b[39;00m\n",
      "\u001b[0;31mValueError\u001b[0m: Mime type rendering requires nbformat>=4.2.0 but it is not installed"
     ]
    },
    {
     "data": {
      "application/vnd.plotly.v1+json": {
       "config": {
        "plotlyServerURL": "https://plot.ly"
       },
       "data": [
        {
         "hovertemplate": "variable=step count<br>Date=%{x}<br>value=%{y}<extra></extra>",
         "legendgroup": "step count",
         "marker": {
          "color": "#000002",
          "symbol": "circle"
         },
         "mode": "markers",
         "name": "step count",
         "orientation": "v",
         "showlegend": true,
         "type": "scatter",
         "x": [
          "2024-01-01T00:00:00",
          "2024-01-02T00:00:00",
          "2024-01-03T00:00:00",
          "2024-01-04T00:00:00",
          "2024-01-05T00:00:00",
          "2024-01-06T00:00:00",
          "2024-01-07T00:00:00",
          "2024-01-08T00:00:00",
          "2024-01-09T00:00:00",
          "2024-01-10T00:00:00",
          "2024-01-11T00:00:00",
          "2024-01-12T00:00:00",
          "2024-01-13T00:00:00",
          "2024-01-14T00:00:00",
          "2024-01-15T00:00:00",
          "2024-01-16T00:00:00",
          "2024-01-17T00:00:00",
          "2024-01-18T00:00:00",
          "2024-01-19T00:00:00",
          "2024-01-20T00:00:00",
          "2024-01-21T00:00:00",
          "2024-01-22T00:00:00",
          "2024-01-23T00:00:00",
          "2024-01-24T00:00:00",
          "2024-01-25T00:00:00",
          "2024-01-26T00:00:00",
          "2024-01-27T00:00:00",
          "2024-01-28T00:00:00",
          "2024-01-29T00:00:00",
          "2024-01-30T00:00:00",
          "2024-01-31T00:00:00",
          "2024-02-01T00:00:00",
          "2024-02-02T00:00:00",
          "2024-02-03T00:00:00",
          "2024-02-04T00:00:00",
          "2024-02-05T00:00:00",
          "2024-02-06T00:00:00",
          "2024-02-07T00:00:00",
          "2024-02-08T00:00:00",
          "2024-02-09T00:00:00",
          "2024-02-10T00:00:00",
          "2024-02-11T00:00:00",
          "2024-02-12T00:00:00",
          "2024-02-13T00:00:00",
          "2024-02-14T00:00:00",
          "2024-02-15T00:00:00",
          "2024-02-16T00:00:00",
          "2024-02-17T00:00:00",
          "2024-02-18T00:00:00",
          "2024-02-19T00:00:00",
          "2024-02-20T00:00:00",
          "2024-02-21T00:00:00",
          "2024-02-22T00:00:00",
          "2024-02-23T00:00:00",
          "2024-02-24T00:00:00",
          "2024-02-25T00:00:00",
          "2024-02-26T00:00:00",
          "2024-02-27T00:00:00",
          "2024-02-28T00:00:00",
          "2024-02-29T00:00:00",
          "2024-03-01T00:00:00",
          "2024-03-02T00:00:00",
          "2024-03-03T00:00:00",
          "2024-03-04T00:00:00",
          "2024-03-05T00:00:00",
          "2024-03-06T00:00:00",
          "2024-03-07T00:00:00",
          "2024-03-08T00:00:00",
          "2024-03-09T00:00:00",
          "2024-03-10T00:00:00",
          "2024-03-11T00:00:00",
          "2024-03-12T00:00:00",
          "2024-03-13T00:00:00",
          "2024-03-14T00:00:00",
          "2024-03-15T00:00:00",
          "2024-03-16T00:00:00",
          "2024-03-17T00:00:00",
          "2024-03-18T00:00:00",
          "2024-03-19T00:00:00",
          "2024-03-20T00:00:00",
          "2024-03-21T00:00:00",
          "2024-03-22T00:00:00",
          "2024-03-23T00:00:00",
          "2024-03-24T00:00:00",
          "2024-03-25T00:00:00",
          "2024-03-26T00:00:00",
          "2024-03-27T00:00:00",
          "2024-03-28T00:00:00",
          "2024-03-29T00:00:00",
          "2024-03-30T00:00:00",
          "2024-03-31T00:00:00",
          "2024-04-01T00:00:00",
          "2024-04-02T00:00:00",
          "2024-04-03T00:00:00",
          "2024-04-04T00:00:00",
          "2024-04-05T00:00:00",
          "2024-04-06T00:00:00",
          "2024-04-07T00:00:00",
          "2024-04-08T00:00:00",
          "2024-04-09T00:00:00"
         ],
         "xaxis": "x",
         "y": [
          11.940319840219658,
          -11.11299157214989,
          19.636676180732472,
          6.377423686459017,
          16.471350796559612,
          8.171208980234447,
          11.106103827942993,
          23.859819983826583,
          13.070899489837736,
          3.3926549206360868,
          31.102605602295743,
          19.495695217369835,
          23.462971089651248,
          8.37980883583554,
          16.841079652342916,
          34.986895774952956,
          29.365636376249473,
          18.80524251526152,
          32.91125283758104,
          23.514412120625646,
          17.085426018934413,
          31.83612375339571,
          32.02189479101633,
          24.98211781778416,
          45.34965032280411,
          46.229246378848146,
          23.155328980873254,
          42.54240329965505,
          29.704633568284763,
          29.31538340159746,
          23.832455006235286,
          34.38352845803257,
          20.42527295201218,
          28.187586804018423,
          30.82550331517896,
          17.500131019355535,
          26.006944785916666,
          23.462659472125406,
          8.546932759940354,
          32.293086659941,
          14.117976007997997,
          19.661960733678605,
          19.162731104679537,
          24.47523462828422,
          13.569140286978312,
          7.105403422556979,
          2.4413913792245667,
          2.1180926623353016,
          15.81427297745853,
          1.9212275449402154,
          -10.830764349856132,
          4.35427241081264,
          -12.639374276099236,
          9.360627785443176,
          -14.19820802936543,
          -5.492292590675266,
          -4.008918559216985,
          -29.667421327866894,
          -3.7287707967169013,
          -11.819161968859458,
          -18.86520666596529,
          -7.047102753715276,
          -14.270670852535446,
          -26.668739509789006,
          -11.590002985708555,
          -38.471361253843384,
          -16.82982488124941,
          -24.091110968922614,
          -35.981187115157965,
          -29.308015656532547,
          -44.82678210157911,
          -32.62352075641822,
          -11.24495500258892,
          -37.865592625260035,
          -21.23986528645905,
          -16.112761101553797,
          -35.78587941504264,
          -41.85706925118751,
          -26.616113165660295,
          -19.015633426446804,
          -27.805050430543023,
          -46.48942370455835,
          -41.519732096848855,
          -37.024678861390626,
          -32.367826572413094,
          -37.35355212943993,
          -34.56089275414219,
          -14.3136032026805,
          -17.422725007044235,
          -15.109652634121181,
          -24.399221655992527,
          -13.862526356536067,
          0.3988859578787096,
          14.999116901415423,
          -24.173236191133277,
          -13.798154919387958,
          -9.73346204885696,
          -22.233429446771193,
          -13.911399741200114,
          -10.092742060717534
         ],
         "yaxis": "y"
        },
        {
         "hovertemplate": "variable=predicted step count<br>Date=%{x}<br>value=%{y}<extra></extra>",
         "legendgroup": "predicted step count",
         "marker": {
          "color": "orange",
          "symbol": "circle"
         },
         "mode": "markers",
         "name": "predicted step count",
         "orientation": "v",
         "showlegend": true,
         "type": "scatter",
         "x": [
          "2024-01-01T00:00:00",
          "2024-01-02T00:00:00",
          "2024-01-03T00:00:00",
          "2024-01-04T00:00:00",
          "2024-01-05T00:00:00",
          "2024-01-06T00:00:00",
          "2024-01-07T00:00:00",
          "2024-01-08T00:00:00",
          "2024-01-09T00:00:00",
          "2024-01-10T00:00:00",
          "2024-01-11T00:00:00",
          "2024-01-12T00:00:00",
          "2024-01-13T00:00:00",
          "2024-01-14T00:00:00",
          "2024-01-15T00:00:00",
          "2024-01-16T00:00:00",
          "2024-01-17T00:00:00",
          "2024-01-18T00:00:00",
          "2024-01-19T00:00:00",
          "2024-01-20T00:00:00",
          "2024-01-21T00:00:00",
          "2024-01-22T00:00:00",
          "2024-01-23T00:00:00",
          "2024-01-24T00:00:00",
          "2024-01-25T00:00:00",
          "2024-01-26T00:00:00",
          "2024-01-27T00:00:00",
          "2024-01-28T00:00:00",
          "2024-01-29T00:00:00",
          "2024-01-30T00:00:00",
          "2024-01-31T00:00:00",
          "2024-02-01T00:00:00",
          "2024-02-02T00:00:00",
          "2024-02-03T00:00:00",
          "2024-02-04T00:00:00",
          "2024-02-05T00:00:00",
          "2024-02-06T00:00:00",
          "2024-02-07T00:00:00",
          "2024-02-08T00:00:00",
          "2024-02-09T00:00:00",
          "2024-02-10T00:00:00",
          "2024-02-11T00:00:00",
          "2024-02-12T00:00:00",
          "2024-02-13T00:00:00",
          "2024-02-14T00:00:00",
          "2024-02-15T00:00:00",
          "2024-02-16T00:00:00",
          "2024-02-17T00:00:00",
          "2024-02-18T00:00:00",
          "2024-02-19T00:00:00",
          "2024-02-20T00:00:00",
          "2024-02-21T00:00:00",
          "2024-02-22T00:00:00",
          "2024-02-23T00:00:00",
          "2024-02-24T00:00:00",
          "2024-02-25T00:00:00",
          "2024-02-26T00:00:00",
          "2024-02-27T00:00:00",
          "2024-02-28T00:00:00",
          "2024-02-29T00:00:00",
          "2024-03-01T00:00:00",
          "2024-03-02T00:00:00",
          "2024-03-03T00:00:00",
          "2024-03-04T00:00:00",
          "2024-03-05T00:00:00",
          "2024-03-06T00:00:00",
          "2024-03-07T00:00:00",
          "2024-03-08T00:00:00",
          "2024-03-09T00:00:00",
          "2024-03-10T00:00:00",
          "2024-03-11T00:00:00",
          "2024-03-12T00:00:00",
          "2024-03-13T00:00:00",
          "2024-03-14T00:00:00",
          "2024-03-15T00:00:00",
          "2024-03-16T00:00:00",
          "2024-03-17T00:00:00",
          "2024-03-18T00:00:00",
          "2024-03-19T00:00:00",
          "2024-03-20T00:00:00",
          "2024-03-21T00:00:00",
          "2024-03-22T00:00:00",
          "2024-03-23T00:00:00",
          "2024-03-24T00:00:00",
          "2024-03-25T00:00:00",
          "2024-03-26T00:00:00",
          "2024-03-27T00:00:00",
          "2024-03-28T00:00:00",
          "2024-03-29T00:00:00",
          "2024-03-30T00:00:00",
          "2024-03-31T00:00:00",
          "2024-04-01T00:00:00",
          "2024-04-02T00:00:00",
          "2024-04-03T00:00:00",
          "2024-04-04T00:00:00",
          "2024-04-05T00:00:00",
          "2024-04-06T00:00:00",
          "2024-04-07T00:00:00",
          "2024-04-08T00:00:00",
          "2024-04-09T00:00:00"
         ],
         "xaxis": "x",
         "y": [
          0,
          1.8837155858794012,
          3.7599970069291277,
          5.621439437571738,
          7.460696614945644,
          9.270509831248422,
          11.043736580540337,
          12.77337874695218,
          14.45261022305146,
          16.0748038493699,
          17.633557568774194,
          19.122719692460688,
          20.53641317786066,
          21.869058822642348,
          23.115397283273676,
          24.27050983124842,
          25.329837765060454,
          26.28920040131591,
          27.144811573980586,
          27.89329457664754,
          28.531695488854606,
          29.057494833858932,
          29.468617521860658,
          29.763441039434333,
          29.940801852848146,
          30,
          29.940801852848146,
          29.763441039434337,
          29.46861752186066,
          29.057494833858932,
          28.53169548885461,
          27.893294576647545,
          27.144811573980583,
          26.289200401315902,
          25.32983776506045,
          24.270509831248425,
          23.115397283273676,
          21.869058822642344,
          20.536413177860666,
          19.122719692460695,
          17.633557568774197,
          16.07480384936991,
          14.452610223051456,
          12.773378746952186,
          11.043736580540344,
          9.270509831248425,
          7.4606966149456575,
          5.621439437571738,
          3.759997006929136,
          1.8837155858794075,
          3.67394039744206e-15,
          -1.8837155858794004,
          -3.7599970069291286,
          -5.621439437571743,
          -7.460696614945637,
          -9.270509831248418,
          -11.043736580540337,
          -12.773378746952169,
          -14.452610223051462,
          -16.074803849369893,
          -17.63355756877418,
          -19.122719692460688,
          -20.536413177860652,
          -21.86905882264235,
          -23.11539728327368,
          -24.27050983124842,
          -25.32983776506046,
          -26.289200401315906,
          -27.144811573980594,
          -27.893294576647545,
          -28.531695488854606,
          -29.057494833858936,
          -29.46861752186066,
          -29.763441039434333,
          -29.940801852848146,
          -30,
          -29.940801852848146,
          -29.763441039434337,
          -29.46861752186066,
          -29.057494833858932,
          -28.53169548885461,
          -27.89329457664755,
          -27.144811573980597,
          -26.289200401315902,
          -25.32983776506045,
          -24.270509831248425,
          -23.115397283273687,
          -21.869058822642366,
          -20.53641317786067,
          -19.122719692460688,
          -17.6335575687742,
          -16.074803849369914,
          -14.452610223051483,
          -12.77337874695219,
          -11.043736580540337,
          -9.27050983124843,
          -7.46069661494566,
          -5.62143943757174,
          -3.7599970069291393,
          -1.883715585879398
         ],
         "yaxis": "y"
        }
       ],
       "layout": {
        "legend": {
         "title": {
          "text": "variable"
         },
         "tracegroupgap": 0
        },
        "margin": {
         "t": 60
        },
        "template": {
         "data": {
          "candlestick": [
           {
            "decreasing": {
             "line": {
              "color": "#000033"
             }
            },
            "increasing": {
             "line": {
              "color": "#000032"
             }
            },
            "type": "candlestick"
           }
          ],
          "contour": [
           {
            "colorscale": [
             [
              0,
              "#000011"
             ],
             [
              0.1111111111111111,
              "#000012"
             ],
             [
              0.2222222222222222,
              "#000013"
             ],
             [
              0.3333333333333333,
              "#000014"
             ],
             [
              0.4444444444444444,
              "#000015"
             ],
             [
              0.5555555555555556,
              "#000016"
             ],
             [
              0.6666666666666666,
              "#000017"
             ],
             [
              0.7777777777777778,
              "#000018"
             ],
             [
              0.8888888888888888,
              "#000019"
             ],
             [
              1,
              "#000020"
             ]
            ],
            "type": "contour"
           }
          ],
          "contourcarpet": [
           {
            "colorscale": [
             [
              0,
              "#000011"
             ],
             [
              0.1111111111111111,
              "#000012"
             ],
             [
              0.2222222222222222,
              "#000013"
             ],
             [
              0.3333333333333333,
              "#000014"
             ],
             [
              0.4444444444444444,
              "#000015"
             ],
             [
              0.5555555555555556,
              "#000016"
             ],
             [
              0.6666666666666666,
              "#000017"
             ],
             [
              0.7777777777777778,
              "#000018"
             ],
             [
              0.8888888888888888,
              "#000019"
             ],
             [
              1,
              "#000020"
             ]
            ],
            "type": "contourcarpet"
           }
          ],
          "heatmap": [
           {
            "colorscale": [
             [
              0,
              "#000011"
             ],
             [
              0.1111111111111111,
              "#000012"
             ],
             [
              0.2222222222222222,
              "#000013"
             ],
             [
              0.3333333333333333,
              "#000014"
             ],
             [
              0.4444444444444444,
              "#000015"
             ],
             [
              0.5555555555555556,
              "#000016"
             ],
             [
              0.6666666666666666,
              "#000017"
             ],
             [
              0.7777777777777778,
              "#000018"
             ],
             [
              0.8888888888888888,
              "#000019"
             ],
             [
              1,
              "#000020"
             ]
            ],
            "type": "heatmap"
           }
          ],
          "histogram2d": [
           {
            "colorscale": [
             [
              0,
              "#000011"
             ],
             [
              0.1111111111111111,
              "#000012"
             ],
             [
              0.2222222222222222,
              "#000013"
             ],
             [
              0.3333333333333333,
              "#000014"
             ],
             [
              0.4444444444444444,
              "#000015"
             ],
             [
              0.5555555555555556,
              "#000016"
             ],
             [
              0.6666666666666666,
              "#000017"
             ],
             [
              0.7777777777777778,
              "#000018"
             ],
             [
              0.8888888888888888,
              "#000019"
             ],
             [
              1,
              "#000020"
             ]
            ],
            "type": "histogram2d"
           }
          ],
          "icicle": [
           {
            "textfont": {
             "color": "white"
            },
            "type": "icicle"
           }
          ],
          "sankey": [
           {
            "textfont": {
             "color": "#000036"
            },
            "type": "sankey"
           }
          ],
          "scatter": [
           {
            "marker": {
             "line": {
              "width": 0
             }
            },
            "type": "scatter"
           }
          ],
          "table": [
           {
            "cells": {
             "fill": {
              "color": "#000038"
             },
             "font": {
              "color": "#000037"
             },
             "line": {
              "color": "#000039"
             }
            },
            "header": {
             "fill": {
              "color": "#000040"
             },
             "font": {
              "color": "#000036"
             },
             "line": {
              "color": "#000039"
             }
            },
            "type": "table"
           }
          ],
          "waterfall": [
           {
            "connector": {
             "line": {
              "color": "#000036",
              "width": 2
             }
            },
            "decreasing": {
             "marker": {
              "color": "#000033"
             }
            },
            "increasing": {
             "marker": {
              "color": "#000032"
             }
            },
            "totals": {
             "marker": {
              "color": "#000034"
             }
            },
            "type": "waterfall"
           }
          ]
         },
         "layout": {
          "coloraxis": {
           "colorscale": [
            [
             0,
             "#000011"
            ],
            [
             0.1111111111111111,
             "#000012"
            ],
            [
             0.2222222222222222,
             "#000013"
            ],
            [
             0.3333333333333333,
             "#000014"
            ],
            [
             0.4444444444444444,
             "#000015"
            ],
            [
             0.5555555555555556,
             "#000016"
            ],
            [
             0.6666666666666666,
             "#000017"
            ],
            [
             0.7777777777777778,
             "#000018"
            ],
            [
             0.8888888888888888,
             "#000019"
            ],
            [
             1,
             "#000020"
            ]
           ]
          },
          "colorscale": {
           "diverging": [
            [
             0,
             "#000021"
            ],
            [
             0.1,
             "#000022"
            ],
            [
             0.2,
             "#000023"
            ],
            [
             0.3,
             "#000024"
            ],
            [
             0.4,
             "#000025"
            ],
            [
             0.5,
             "#000026"
            ],
            [
             0.6,
             "#000027"
            ],
            [
             0.7,
             "#000028"
            ],
            [
             0.8,
             "#000029"
            ],
            [
             0.9,
             "#000030"
            ],
            [
             1,
             "#000031"
            ]
           ],
           "sequential": [
            [
             0,
             "#000011"
            ],
            [
             0.1111111111111111,
             "#000012"
            ],
            [
             0.2222222222222222,
             "#000013"
            ],
            [
             0.3333333333333333,
             "#000014"
            ],
            [
             0.4444444444444444,
             "#000015"
            ],
            [
             0.5555555555555556,
             "#000016"
            ],
            [
             0.6666666666666666,
             "#000017"
            ],
            [
             0.7777777777777778,
             "#000018"
            ],
            [
             0.8888888888888888,
             "#000019"
            ],
            [
             1,
             "#000020"
            ]
           ],
           "sequentialminus": [
            [
             0,
             "#000011"
            ],
            [
             0.1111111111111111,
             "#000012"
            ],
            [
             0.2222222222222222,
             "#000013"
            ],
            [
             0.3333333333333333,
             "#000014"
            ],
            [
             0.4444444444444444,
             "#000015"
            ],
            [
             0.5555555555555556,
             "#000016"
            ],
            [
             0.6666666666666666,
             "#000017"
            ],
            [
             0.7777777777777778,
             "#000018"
            ],
            [
             0.8888888888888888,
             "#000019"
            ],
            [
             1,
             "#000020"
            ]
           ]
          },
          "colorway": [
           "#000001",
           "#000002",
           "#000003",
           "#000004",
           "#000005",
           "#000006",
           "#000007",
           "#000008",
           "#000009",
           "#000010"
          ]
         }
        },
        "xaxis": {
         "anchor": "y",
         "domain": [
          0,
          1
         ],
         "title": {
          "text": "Date"
         }
        },
        "yaxis": {
         "anchor": "x",
         "domain": [
          0,
          1
         ],
         "title": {
          "text": "Step count"
         }
        }
       }
      },
      "text/html": [
       "<div>                        <script type=\"text/javascript\">window.PlotlyConfig = {MathJaxConfig: 'local'};</script>\n",
       "        <script charset=\"utf-8\" src=\"https://cdn.plot.ly/plotly-2.35.0.min.js\"></script>                <div id=\"1af4090d-3721-4d0d-96d7-97a7fef1f1a3\" class=\"plotly-graph-div\" style=\"height:100%; width:100%;\"></div>            <script type=\"text/javascript\">                                    window.PLOTLYENV=window.PLOTLYENV || {};                                    if (document.getElementById(\"1af4090d-3721-4d0d-96d7-97a7fef1f1a3\")) {                    Plotly.newPlot(                        \"1af4090d-3721-4d0d-96d7-97a7fef1f1a3\",                        [{\"hovertemplate\":\"variable=step count\\u003cbr\\u003eDate=%{x}\\u003cbr\\u003evalue=%{y}\\u003cextra\\u003e\\u003c\\u002fextra\\u003e\",\"legendgroup\":\"step count\",\"marker\":{\"color\":\"#000002\",\"symbol\":\"circle\"},\"mode\":\"markers\",\"name\":\"step count\",\"orientation\":\"v\",\"showlegend\":true,\"x\":[\"2024-01-01T00:00:00\",\"2024-01-02T00:00:00\",\"2024-01-03T00:00:00\",\"2024-01-04T00:00:00\",\"2024-01-05T00:00:00\",\"2024-01-06T00:00:00\",\"2024-01-07T00:00:00\",\"2024-01-08T00:00:00\",\"2024-01-09T00:00:00\",\"2024-01-10T00:00:00\",\"2024-01-11T00:00:00\",\"2024-01-12T00:00:00\",\"2024-01-13T00:00:00\",\"2024-01-14T00:00:00\",\"2024-01-15T00:00:00\",\"2024-01-16T00:00:00\",\"2024-01-17T00:00:00\",\"2024-01-18T00:00:00\",\"2024-01-19T00:00:00\",\"2024-01-20T00:00:00\",\"2024-01-21T00:00:00\",\"2024-01-22T00:00:00\",\"2024-01-23T00:00:00\",\"2024-01-24T00:00:00\",\"2024-01-25T00:00:00\",\"2024-01-26T00:00:00\",\"2024-01-27T00:00:00\",\"2024-01-28T00:00:00\",\"2024-01-29T00:00:00\",\"2024-01-30T00:00:00\",\"2024-01-31T00:00:00\",\"2024-02-01T00:00:00\",\"2024-02-02T00:00:00\",\"2024-02-03T00:00:00\",\"2024-02-04T00:00:00\",\"2024-02-05T00:00:00\",\"2024-02-06T00:00:00\",\"2024-02-07T00:00:00\",\"2024-02-08T00:00:00\",\"2024-02-09T00:00:00\",\"2024-02-10T00:00:00\",\"2024-02-11T00:00:00\",\"2024-02-12T00:00:00\",\"2024-02-13T00:00:00\",\"2024-02-14T00:00:00\",\"2024-02-15T00:00:00\",\"2024-02-16T00:00:00\",\"2024-02-17T00:00:00\",\"2024-02-18T00:00:00\",\"2024-02-19T00:00:00\",\"2024-02-20T00:00:00\",\"2024-02-21T00:00:00\",\"2024-02-22T00:00:00\",\"2024-02-23T00:00:00\",\"2024-02-24T00:00:00\",\"2024-02-25T00:00:00\",\"2024-02-26T00:00:00\",\"2024-02-27T00:00:00\",\"2024-02-28T00:00:00\",\"2024-02-29T00:00:00\",\"2024-03-01T00:00:00\",\"2024-03-02T00:00:00\",\"2024-03-03T00:00:00\",\"2024-03-04T00:00:00\",\"2024-03-05T00:00:00\",\"2024-03-06T00:00:00\",\"2024-03-07T00:00:00\",\"2024-03-08T00:00:00\",\"2024-03-09T00:00:00\",\"2024-03-10T00:00:00\",\"2024-03-11T00:00:00\",\"2024-03-12T00:00:00\",\"2024-03-13T00:00:00\",\"2024-03-14T00:00:00\",\"2024-03-15T00:00:00\",\"2024-03-16T00:00:00\",\"2024-03-17T00:00:00\",\"2024-03-18T00:00:00\",\"2024-03-19T00:00:00\",\"2024-03-20T00:00:00\",\"2024-03-21T00:00:00\",\"2024-03-22T00:00:00\",\"2024-03-23T00:00:00\",\"2024-03-24T00:00:00\",\"2024-03-25T00:00:00\",\"2024-03-26T00:00:00\",\"2024-03-27T00:00:00\",\"2024-03-28T00:00:00\",\"2024-03-29T00:00:00\",\"2024-03-30T00:00:00\",\"2024-03-31T00:00:00\",\"2024-04-01T00:00:00\",\"2024-04-02T00:00:00\",\"2024-04-03T00:00:00\",\"2024-04-04T00:00:00\",\"2024-04-05T00:00:00\",\"2024-04-06T00:00:00\",\"2024-04-07T00:00:00\",\"2024-04-08T00:00:00\",\"2024-04-09T00:00:00\"],\"xaxis\":\"x\",\"y\":[11.940319840219658,-11.11299157214989,19.636676180732472,6.377423686459017,16.471350796559612,8.171208980234447,11.106103827942993,23.859819983826583,13.070899489837736,3.3926549206360868,31.102605602295743,19.495695217369835,23.462971089651248,8.37980883583554,16.841079652342916,34.986895774952956,29.365636376249473,18.80524251526152,32.91125283758104,23.514412120625646,17.085426018934413,31.83612375339571,32.02189479101633,24.98211781778416,45.34965032280411,46.229246378848146,23.155328980873254,42.54240329965505,29.704633568284763,29.31538340159746,23.832455006235286,34.38352845803257,20.42527295201218,28.187586804018423,30.82550331517896,17.500131019355535,26.006944785916666,23.462659472125406,8.546932759940354,32.293086659941,14.117976007997997,19.661960733678605,19.162731104679537,24.47523462828422,13.569140286978312,7.105403422556979,2.4413913792245667,2.1180926623353016,15.81427297745853,1.9212275449402154,-10.830764349856132,4.35427241081264,-12.639374276099236,9.360627785443176,-14.19820802936543,-5.492292590675266,-4.008918559216985,-29.667421327866894,-3.7287707967169013,-11.819161968859458,-18.86520666596529,-7.047102753715276,-14.270670852535446,-26.668739509789006,-11.590002985708555,-38.471361253843384,-16.82982488124941,-24.091110968922614,-35.981187115157965,-29.308015656532547,-44.82678210157911,-32.62352075641822,-11.24495500258892,-37.865592625260035,-21.23986528645905,-16.112761101553797,-35.78587941504264,-41.85706925118751,-26.616113165660295,-19.015633426446804,-27.805050430543023,-46.48942370455835,-41.519732096848855,-37.024678861390626,-32.367826572413094,-37.35355212943993,-34.56089275414219,-14.3136032026805,-17.422725007044235,-15.109652634121181,-24.399221655992527,-13.862526356536067,0.3988859578787096,14.999116901415423,-24.173236191133277,-13.798154919387958,-9.73346204885696,-22.233429446771193,-13.911399741200114,-10.092742060717534],\"yaxis\":\"y\",\"type\":\"scatter\"},{\"hovertemplate\":\"variable=predicted step count\\u003cbr\\u003eDate=%{x}\\u003cbr\\u003evalue=%{y}\\u003cextra\\u003e\\u003c\\u002fextra\\u003e\",\"legendgroup\":\"predicted step count\",\"marker\":{\"color\":\"orange\",\"symbol\":\"circle\"},\"mode\":\"markers\",\"name\":\"predicted step count\",\"orientation\":\"v\",\"showlegend\":true,\"x\":[\"2024-01-01T00:00:00\",\"2024-01-02T00:00:00\",\"2024-01-03T00:00:00\",\"2024-01-04T00:00:00\",\"2024-01-05T00:00:00\",\"2024-01-06T00:00:00\",\"2024-01-07T00:00:00\",\"2024-01-08T00:00:00\",\"2024-01-09T00:00:00\",\"2024-01-10T00:00:00\",\"2024-01-11T00:00:00\",\"2024-01-12T00:00:00\",\"2024-01-13T00:00:00\",\"2024-01-14T00:00:00\",\"2024-01-15T00:00:00\",\"2024-01-16T00:00:00\",\"2024-01-17T00:00:00\",\"2024-01-18T00:00:00\",\"2024-01-19T00:00:00\",\"2024-01-20T00:00:00\",\"2024-01-21T00:00:00\",\"2024-01-22T00:00:00\",\"2024-01-23T00:00:00\",\"2024-01-24T00:00:00\",\"2024-01-25T00:00:00\",\"2024-01-26T00:00:00\",\"2024-01-27T00:00:00\",\"2024-01-28T00:00:00\",\"2024-01-29T00:00:00\",\"2024-01-30T00:00:00\",\"2024-01-31T00:00:00\",\"2024-02-01T00:00:00\",\"2024-02-02T00:00:00\",\"2024-02-03T00:00:00\",\"2024-02-04T00:00:00\",\"2024-02-05T00:00:00\",\"2024-02-06T00:00:00\",\"2024-02-07T00:00:00\",\"2024-02-08T00:00:00\",\"2024-02-09T00:00:00\",\"2024-02-10T00:00:00\",\"2024-02-11T00:00:00\",\"2024-02-12T00:00:00\",\"2024-02-13T00:00:00\",\"2024-02-14T00:00:00\",\"2024-02-15T00:00:00\",\"2024-02-16T00:00:00\",\"2024-02-17T00:00:00\",\"2024-02-18T00:00:00\",\"2024-02-19T00:00:00\",\"2024-02-20T00:00:00\",\"2024-02-21T00:00:00\",\"2024-02-22T00:00:00\",\"2024-02-23T00:00:00\",\"2024-02-24T00:00:00\",\"2024-02-25T00:00:00\",\"2024-02-26T00:00:00\",\"2024-02-27T00:00:00\",\"2024-02-28T00:00:00\",\"2024-02-29T00:00:00\",\"2024-03-01T00:00:00\",\"2024-03-02T00:00:00\",\"2024-03-03T00:00:00\",\"2024-03-04T00:00:00\",\"2024-03-05T00:00:00\",\"2024-03-06T00:00:00\",\"2024-03-07T00:00:00\",\"2024-03-08T00:00:00\",\"2024-03-09T00:00:00\",\"2024-03-10T00:00:00\",\"2024-03-11T00:00:00\",\"2024-03-12T00:00:00\",\"2024-03-13T00:00:00\",\"2024-03-14T00:00:00\",\"2024-03-15T00:00:00\",\"2024-03-16T00:00:00\",\"2024-03-17T00:00:00\",\"2024-03-18T00:00:00\",\"2024-03-19T00:00:00\",\"2024-03-20T00:00:00\",\"2024-03-21T00:00:00\",\"2024-03-22T00:00:00\",\"2024-03-23T00:00:00\",\"2024-03-24T00:00:00\",\"2024-03-25T00:00:00\",\"2024-03-26T00:00:00\",\"2024-03-27T00:00:00\",\"2024-03-28T00:00:00\",\"2024-03-29T00:00:00\",\"2024-03-30T00:00:00\",\"2024-03-31T00:00:00\",\"2024-04-01T00:00:00\",\"2024-04-02T00:00:00\",\"2024-04-03T00:00:00\",\"2024-04-04T00:00:00\",\"2024-04-05T00:00:00\",\"2024-04-06T00:00:00\",\"2024-04-07T00:00:00\",\"2024-04-08T00:00:00\",\"2024-04-09T00:00:00\"],\"xaxis\":\"x\",\"y\":[0.0,1.8837155858794012,3.7599970069291277,5.621439437571738,7.460696614945644,9.270509831248422,11.043736580540337,12.77337874695218,14.45261022305146,16.0748038493699,17.633557568774194,19.122719692460688,20.53641317786066,21.869058822642348,23.115397283273676,24.27050983124842,25.329837765060454,26.28920040131591,27.144811573980586,27.89329457664754,28.531695488854606,29.057494833858932,29.468617521860658,29.763441039434333,29.940801852848146,30.0,29.940801852848146,29.763441039434337,29.46861752186066,29.057494833858932,28.53169548885461,27.893294576647545,27.144811573980583,26.289200401315902,25.32983776506045,24.270509831248425,23.115397283273676,21.869058822642344,20.536413177860666,19.122719692460695,17.633557568774197,16.07480384936991,14.452610223051456,12.773378746952186,11.043736580540344,9.270509831248425,7.4606966149456575,5.621439437571738,3.759997006929136,1.8837155858794075,3.67394039744206e-15,-1.8837155858794004,-3.7599970069291286,-5.621439437571743,-7.460696614945637,-9.270509831248418,-11.043736580540337,-12.773378746952169,-14.452610223051462,-16.074803849369893,-17.63355756877418,-19.122719692460688,-20.536413177860652,-21.86905882264235,-23.11539728327368,-24.27050983124842,-25.32983776506046,-26.289200401315906,-27.144811573980594,-27.893294576647545,-28.531695488854606,-29.057494833858936,-29.46861752186066,-29.763441039434333,-29.940801852848146,-30.0,-29.940801852848146,-29.763441039434337,-29.46861752186066,-29.057494833858932,-28.53169548885461,-27.89329457664755,-27.144811573980597,-26.289200401315902,-25.32983776506045,-24.270509831248425,-23.115397283273687,-21.869058822642366,-20.53641317786067,-19.122719692460688,-17.6335575687742,-16.074803849369914,-14.452610223051483,-12.77337874695219,-11.043736580540337,-9.27050983124843,-7.46069661494566,-5.62143943757174,-3.7599970069291393,-1.883715585879398],\"yaxis\":\"y\",\"type\":\"scatter\"}],                        {\"template\":{\"data\":{\"candlestick\":[{\"decreasing\":{\"line\":{\"color\":\"#000033\"}},\"increasing\":{\"line\":{\"color\":\"#000032\"}},\"type\":\"candlestick\"}],\"contourcarpet\":[{\"colorscale\":[[0.0,\"#000011\"],[0.1111111111111111,\"#000012\"],[0.2222222222222222,\"#000013\"],[0.3333333333333333,\"#000014\"],[0.4444444444444444,\"#000015\"],[0.5555555555555556,\"#000016\"],[0.6666666666666666,\"#000017\"],[0.7777777777777778,\"#000018\"],[0.8888888888888888,\"#000019\"],[1.0,\"#000020\"]],\"type\":\"contourcarpet\"}],\"contour\":[{\"colorscale\":[[0.0,\"#000011\"],[0.1111111111111111,\"#000012\"],[0.2222222222222222,\"#000013\"],[0.3333333333333333,\"#000014\"],[0.4444444444444444,\"#000015\"],[0.5555555555555556,\"#000016\"],[0.6666666666666666,\"#000017\"],[0.7777777777777778,\"#000018\"],[0.8888888888888888,\"#000019\"],[1.0,\"#000020\"]],\"type\":\"contour\"}],\"heatmap\":[{\"colorscale\":[[0.0,\"#000011\"],[0.1111111111111111,\"#000012\"],[0.2222222222222222,\"#000013\"],[0.3333333333333333,\"#000014\"],[0.4444444444444444,\"#000015\"],[0.5555555555555556,\"#000016\"],[0.6666666666666666,\"#000017\"],[0.7777777777777778,\"#000018\"],[0.8888888888888888,\"#000019\"],[1.0,\"#000020\"]],\"type\":\"heatmap\"}],\"histogram2d\":[{\"colorscale\":[[0.0,\"#000011\"],[0.1111111111111111,\"#000012\"],[0.2222222222222222,\"#000013\"],[0.3333333333333333,\"#000014\"],[0.4444444444444444,\"#000015\"],[0.5555555555555556,\"#000016\"],[0.6666666666666666,\"#000017\"],[0.7777777777777778,\"#000018\"],[0.8888888888888888,\"#000019\"],[1.0,\"#000020\"]],\"type\":\"histogram2d\"}],\"icicle\":[{\"textfont\":{\"color\":\"white\"},\"type\":\"icicle\"}],\"sankey\":[{\"textfont\":{\"color\":\"#000036\"},\"type\":\"sankey\"}],\"scatter\":[{\"marker\":{\"line\":{\"width\":0}},\"type\":\"scatter\"}],\"table\":[{\"cells\":{\"fill\":{\"color\":\"#000038\"},\"font\":{\"color\":\"#000037\"},\"line\":{\"color\":\"#000039\"}},\"header\":{\"fill\":{\"color\":\"#000040\"},\"font\":{\"color\":\"#000036\"},\"line\":{\"color\":\"#000039\"}},\"type\":\"table\"}],\"waterfall\":[{\"connector\":{\"line\":{\"color\":\"#000036\",\"width\":2}},\"decreasing\":{\"marker\":{\"color\":\"#000033\"}},\"increasing\":{\"marker\":{\"color\":\"#000032\"}},\"totals\":{\"marker\":{\"color\":\"#000034\"}},\"type\":\"waterfall\"}]},\"layout\":{\"coloraxis\":{\"colorscale\":[[0.0,\"#000011\"],[0.1111111111111111,\"#000012\"],[0.2222222222222222,\"#000013\"],[0.3333333333333333,\"#000014\"],[0.4444444444444444,\"#000015\"],[0.5555555555555556,\"#000016\"],[0.6666666666666666,\"#000017\"],[0.7777777777777778,\"#000018\"],[0.8888888888888888,\"#000019\"],[1.0,\"#000020\"]]},\"colorscale\":{\"diverging\":[[0.0,\"#000021\"],[0.1,\"#000022\"],[0.2,\"#000023\"],[0.3,\"#000024\"],[0.4,\"#000025\"],[0.5,\"#000026\"],[0.6,\"#000027\"],[0.7,\"#000028\"],[0.8,\"#000029\"],[0.9,\"#000030\"],[1.0,\"#000031\"]],\"sequential\":[[0.0,\"#000011\"],[0.1111111111111111,\"#000012\"],[0.2222222222222222,\"#000013\"],[0.3333333333333333,\"#000014\"],[0.4444444444444444,\"#000015\"],[0.5555555555555556,\"#000016\"],[0.6666666666666666,\"#000017\"],[0.7777777777777778,\"#000018\"],[0.8888888888888888,\"#000019\"],[1.0,\"#000020\"]],\"sequentialminus\":[[0.0,\"#000011\"],[0.1111111111111111,\"#000012\"],[0.2222222222222222,\"#000013\"],[0.3333333333333333,\"#000014\"],[0.4444444444444444,\"#000015\"],[0.5555555555555556,\"#000016\"],[0.6666666666666666,\"#000017\"],[0.7777777777777778,\"#000018\"],[0.8888888888888888,\"#000019\"],[1.0,\"#000020\"]]},\"colorway\":[\"#000001\",\"#000002\",\"#000003\",\"#000004\",\"#000005\",\"#000006\",\"#000007\",\"#000008\",\"#000009\",\"#000010\"]}},\"xaxis\":{\"anchor\":\"y\",\"domain\":[0.0,1.0],\"title\":{\"text\":\"Date\"}},\"yaxis\":{\"anchor\":\"x\",\"domain\":[0.0,1.0],\"title\":{\"text\":\"Step count\"}},\"legend\":{\"title\":{\"text\":\"variable\"},\"tracegroupgap\":0},\"margin\":{\"t\":60}},                        {\"responsive\": true}                    )                };                            </script>        </div>"
      ],
      "text/plain": [
       "Figure({\n",
       "    'data': [{'hovertemplate': 'variable=step count<br>Date=%{x}<br>value=%{y}<extra></extra>',\n",
       "              'legendgroup': 'step count',\n",
       "              'marker': {'color': '#000002', 'symbol': 'circle'},\n",
       "              'mode': 'markers',\n",
       "              'name': 'step count',\n",
       "              'orientation': 'v',\n",
       "              'showlegend': True,\n",
       "              'type': 'scatter',\n",
       "              'x': array([datetime.datetime(2024, 1, 1, 0, 0),\n",
       "                          datetime.datetime(2024, 1, 2, 0, 0),\n",
       "                          datetime.datetime(2024, 1, 3, 0, 0),\n",
       "                          datetime.datetime(2024, 1, 4, 0, 0),\n",
       "                          datetime.datetime(2024, 1, 5, 0, 0),\n",
       "                          datetime.datetime(2024, 1, 6, 0, 0),\n",
       "                          datetime.datetime(2024, 1, 7, 0, 0),\n",
       "                          datetime.datetime(2024, 1, 8, 0, 0),\n",
       "                          datetime.datetime(2024, 1, 9, 0, 0),\n",
       "                          datetime.datetime(2024, 1, 10, 0, 0),\n",
       "                          datetime.datetime(2024, 1, 11, 0, 0),\n",
       "                          datetime.datetime(2024, 1, 12, 0, 0),\n",
       "                          datetime.datetime(2024, 1, 13, 0, 0),\n",
       "                          datetime.datetime(2024, 1, 14, 0, 0),\n",
       "                          datetime.datetime(2024, 1, 15, 0, 0),\n",
       "                          datetime.datetime(2024, 1, 16, 0, 0),\n",
       "                          datetime.datetime(2024, 1, 17, 0, 0),\n",
       "                          datetime.datetime(2024, 1, 18, 0, 0),\n",
       "                          datetime.datetime(2024, 1, 19, 0, 0),\n",
       "                          datetime.datetime(2024, 1, 20, 0, 0),\n",
       "                          datetime.datetime(2024, 1, 21, 0, 0),\n",
       "                          datetime.datetime(2024, 1, 22, 0, 0),\n",
       "                          datetime.datetime(2024, 1, 23, 0, 0),\n",
       "                          datetime.datetime(2024, 1, 24, 0, 0),\n",
       "                          datetime.datetime(2024, 1, 25, 0, 0),\n",
       "                          datetime.datetime(2024, 1, 26, 0, 0),\n",
       "                          datetime.datetime(2024, 1, 27, 0, 0),\n",
       "                          datetime.datetime(2024, 1, 28, 0, 0),\n",
       "                          datetime.datetime(2024, 1, 29, 0, 0),\n",
       "                          datetime.datetime(2024, 1, 30, 0, 0),\n",
       "                          datetime.datetime(2024, 1, 31, 0, 0),\n",
       "                          datetime.datetime(2024, 2, 1, 0, 0),\n",
       "                          datetime.datetime(2024, 2, 2, 0, 0),\n",
       "                          datetime.datetime(2024, 2, 3, 0, 0),\n",
       "                          datetime.datetime(2024, 2, 4, 0, 0),\n",
       "                          datetime.datetime(2024, 2, 5, 0, 0),\n",
       "                          datetime.datetime(2024, 2, 6, 0, 0),\n",
       "                          datetime.datetime(2024, 2, 7, 0, 0),\n",
       "                          datetime.datetime(2024, 2, 8, 0, 0),\n",
       "                          datetime.datetime(2024, 2, 9, 0, 0),\n",
       "                          datetime.datetime(2024, 2, 10, 0, 0),\n",
       "                          datetime.datetime(2024, 2, 11, 0, 0),\n",
       "                          datetime.datetime(2024, 2, 12, 0, 0),\n",
       "                          datetime.datetime(2024, 2, 13, 0, 0),\n",
       "                          datetime.datetime(2024, 2, 14, 0, 0),\n",
       "                          datetime.datetime(2024, 2, 15, 0, 0),\n",
       "                          datetime.datetime(2024, 2, 16, 0, 0),\n",
       "                          datetime.datetime(2024, 2, 17, 0, 0),\n",
       "                          datetime.datetime(2024, 2, 18, 0, 0),\n",
       "                          datetime.datetime(2024, 2, 19, 0, 0),\n",
       "                          datetime.datetime(2024, 2, 20, 0, 0),\n",
       "                          datetime.datetime(2024, 2, 21, 0, 0),\n",
       "                          datetime.datetime(2024, 2, 22, 0, 0),\n",
       "                          datetime.datetime(2024, 2, 23, 0, 0),\n",
       "                          datetime.datetime(2024, 2, 24, 0, 0),\n",
       "                          datetime.datetime(2024, 2, 25, 0, 0),\n",
       "                          datetime.datetime(2024, 2, 26, 0, 0),\n",
       "                          datetime.datetime(2024, 2, 27, 0, 0),\n",
       "                          datetime.datetime(2024, 2, 28, 0, 0),\n",
       "                          datetime.datetime(2024, 2, 29, 0, 0),\n",
       "                          datetime.datetime(2024, 3, 1, 0, 0),\n",
       "                          datetime.datetime(2024, 3, 2, 0, 0),\n",
       "                          datetime.datetime(2024, 3, 3, 0, 0),\n",
       "                          datetime.datetime(2024, 3, 4, 0, 0),\n",
       "                          datetime.datetime(2024, 3, 5, 0, 0),\n",
       "                          datetime.datetime(2024, 3, 6, 0, 0),\n",
       "                          datetime.datetime(2024, 3, 7, 0, 0),\n",
       "                          datetime.datetime(2024, 3, 8, 0, 0),\n",
       "                          datetime.datetime(2024, 3, 9, 0, 0),\n",
       "                          datetime.datetime(2024, 3, 10, 0, 0),\n",
       "                          datetime.datetime(2024, 3, 11, 0, 0),\n",
       "                          datetime.datetime(2024, 3, 12, 0, 0),\n",
       "                          datetime.datetime(2024, 3, 13, 0, 0),\n",
       "                          datetime.datetime(2024, 3, 14, 0, 0),\n",
       "                          datetime.datetime(2024, 3, 15, 0, 0),\n",
       "                          datetime.datetime(2024, 3, 16, 0, 0),\n",
       "                          datetime.datetime(2024, 3, 17, 0, 0),\n",
       "                          datetime.datetime(2024, 3, 18, 0, 0),\n",
       "                          datetime.datetime(2024, 3, 19, 0, 0),\n",
       "                          datetime.datetime(2024, 3, 20, 0, 0),\n",
       "                          datetime.datetime(2024, 3, 21, 0, 0),\n",
       "                          datetime.datetime(2024, 3, 22, 0, 0),\n",
       "                          datetime.datetime(2024, 3, 23, 0, 0),\n",
       "                          datetime.datetime(2024, 3, 24, 0, 0),\n",
       "                          datetime.datetime(2024, 3, 25, 0, 0),\n",
       "                          datetime.datetime(2024, 3, 26, 0, 0),\n",
       "                          datetime.datetime(2024, 3, 27, 0, 0),\n",
       "                          datetime.datetime(2024, 3, 28, 0, 0),\n",
       "                          datetime.datetime(2024, 3, 29, 0, 0),\n",
       "                          datetime.datetime(2024, 3, 30, 0, 0),\n",
       "                          datetime.datetime(2024, 3, 31, 0, 0),\n",
       "                          datetime.datetime(2024, 4, 1, 0, 0),\n",
       "                          datetime.datetime(2024, 4, 2, 0, 0),\n",
       "                          datetime.datetime(2024, 4, 3, 0, 0),\n",
       "                          datetime.datetime(2024, 4, 4, 0, 0),\n",
       "                          datetime.datetime(2024, 4, 5, 0, 0),\n",
       "                          datetime.datetime(2024, 4, 6, 0, 0),\n",
       "                          datetime.datetime(2024, 4, 7, 0, 0),\n",
       "                          datetime.datetime(2024, 4, 8, 0, 0),\n",
       "                          datetime.datetime(2024, 4, 9, 0, 0)], dtype=object),\n",
       "              'xaxis': 'x',\n",
       "              'y': array([ 11.94031984, -11.11299157,  19.63667618,   6.37742369,  16.4713508 ,\n",
       "                            8.17120898,  11.10610383,  23.85981998,  13.07089949,   3.39265492,\n",
       "                           31.1026056 ,  19.49569522,  23.46297109,   8.37980884,  16.84107965,\n",
       "                           34.98689577,  29.36563638,  18.80524252,  32.91125284,  23.51441212,\n",
       "                           17.08542602,  31.83612375,  32.02189479,  24.98211782,  45.34965032,\n",
       "                           46.22924638,  23.15532898,  42.5424033 ,  29.70463357,  29.3153834 ,\n",
       "                           23.83245501,  34.38352846,  20.42527295,  28.1875868 ,  30.82550332,\n",
       "                           17.50013102,  26.00694479,  23.46265947,   8.54693276,  32.29308666,\n",
       "                           14.11797601,  19.66196073,  19.1627311 ,  24.47523463,  13.56914029,\n",
       "                            7.10540342,   2.44139138,   2.11809266,  15.81427298,   1.92122754,\n",
       "                          -10.83076435,   4.35427241, -12.63937428,   9.36062779, -14.19820803,\n",
       "                           -5.49229259,  -4.00891856, -29.66742133,  -3.7287708 , -11.81916197,\n",
       "                          -18.86520667,  -7.04710275, -14.27067085, -26.66873951, -11.59000299,\n",
       "                          -38.47136125, -16.82982488, -24.09111097, -35.98118712, -29.30801566,\n",
       "                          -44.8267821 , -32.62352076, -11.244955  , -37.86559263, -21.23986529,\n",
       "                          -16.1127611 , -35.78587942, -41.85706925, -26.61611317, -19.01563343,\n",
       "                          -27.80505043, -46.4894237 , -41.5197321 , -37.02467886, -32.36782657,\n",
       "                          -37.35355213, -34.56089275, -14.3136032 , -17.42272501, -15.10965263,\n",
       "                          -24.39922166, -13.86252636,   0.39888596,  14.9991169 , -24.17323619,\n",
       "                          -13.79815492,  -9.73346205, -22.23342945, -13.91139974, -10.09274206]),\n",
       "              'yaxis': 'y'},\n",
       "             {'hovertemplate': 'variable=predicted step count<br>Date=%{x}<br>value=%{y}<extra></extra>',\n",
       "              'legendgroup': 'predicted step count',\n",
       "              'marker': {'color': 'orange', 'symbol': 'circle'},\n",
       "              'mode': 'markers',\n",
       "              'name': 'predicted step count',\n",
       "              'orientation': 'v',\n",
       "              'showlegend': True,\n",
       "              'type': 'scatter',\n",
       "              'x': array([datetime.datetime(2024, 1, 1, 0, 0),\n",
       "                          datetime.datetime(2024, 1, 2, 0, 0),\n",
       "                          datetime.datetime(2024, 1, 3, 0, 0),\n",
       "                          datetime.datetime(2024, 1, 4, 0, 0),\n",
       "                          datetime.datetime(2024, 1, 5, 0, 0),\n",
       "                          datetime.datetime(2024, 1, 6, 0, 0),\n",
       "                          datetime.datetime(2024, 1, 7, 0, 0),\n",
       "                          datetime.datetime(2024, 1, 8, 0, 0),\n",
       "                          datetime.datetime(2024, 1, 9, 0, 0),\n",
       "                          datetime.datetime(2024, 1, 10, 0, 0),\n",
       "                          datetime.datetime(2024, 1, 11, 0, 0),\n",
       "                          datetime.datetime(2024, 1, 12, 0, 0),\n",
       "                          datetime.datetime(2024, 1, 13, 0, 0),\n",
       "                          datetime.datetime(2024, 1, 14, 0, 0),\n",
       "                          datetime.datetime(2024, 1, 15, 0, 0),\n",
       "                          datetime.datetime(2024, 1, 16, 0, 0),\n",
       "                          datetime.datetime(2024, 1, 17, 0, 0),\n",
       "                          datetime.datetime(2024, 1, 18, 0, 0),\n",
       "                          datetime.datetime(2024, 1, 19, 0, 0),\n",
       "                          datetime.datetime(2024, 1, 20, 0, 0),\n",
       "                          datetime.datetime(2024, 1, 21, 0, 0),\n",
       "                          datetime.datetime(2024, 1, 22, 0, 0),\n",
       "                          datetime.datetime(2024, 1, 23, 0, 0),\n",
       "                          datetime.datetime(2024, 1, 24, 0, 0),\n",
       "                          datetime.datetime(2024, 1, 25, 0, 0),\n",
       "                          datetime.datetime(2024, 1, 26, 0, 0),\n",
       "                          datetime.datetime(2024, 1, 27, 0, 0),\n",
       "                          datetime.datetime(2024, 1, 28, 0, 0),\n",
       "                          datetime.datetime(2024, 1, 29, 0, 0),\n",
       "                          datetime.datetime(2024, 1, 30, 0, 0),\n",
       "                          datetime.datetime(2024, 1, 31, 0, 0),\n",
       "                          datetime.datetime(2024, 2, 1, 0, 0),\n",
       "                          datetime.datetime(2024, 2, 2, 0, 0),\n",
       "                          datetime.datetime(2024, 2, 3, 0, 0),\n",
       "                          datetime.datetime(2024, 2, 4, 0, 0),\n",
       "                          datetime.datetime(2024, 2, 5, 0, 0),\n",
       "                          datetime.datetime(2024, 2, 6, 0, 0),\n",
       "                          datetime.datetime(2024, 2, 7, 0, 0),\n",
       "                          datetime.datetime(2024, 2, 8, 0, 0),\n",
       "                          datetime.datetime(2024, 2, 9, 0, 0),\n",
       "                          datetime.datetime(2024, 2, 10, 0, 0),\n",
       "                          datetime.datetime(2024, 2, 11, 0, 0),\n",
       "                          datetime.datetime(2024, 2, 12, 0, 0),\n",
       "                          datetime.datetime(2024, 2, 13, 0, 0),\n",
       "                          datetime.datetime(2024, 2, 14, 0, 0),\n",
       "                          datetime.datetime(2024, 2, 15, 0, 0),\n",
       "                          datetime.datetime(2024, 2, 16, 0, 0),\n",
       "                          datetime.datetime(2024, 2, 17, 0, 0),\n",
       "                          datetime.datetime(2024, 2, 18, 0, 0),\n",
       "                          datetime.datetime(2024, 2, 19, 0, 0),\n",
       "                          datetime.datetime(2024, 2, 20, 0, 0),\n",
       "                          datetime.datetime(2024, 2, 21, 0, 0),\n",
       "                          datetime.datetime(2024, 2, 22, 0, 0),\n",
       "                          datetime.datetime(2024, 2, 23, 0, 0),\n",
       "                          datetime.datetime(2024, 2, 24, 0, 0),\n",
       "                          datetime.datetime(2024, 2, 25, 0, 0),\n",
       "                          datetime.datetime(2024, 2, 26, 0, 0),\n",
       "                          datetime.datetime(2024, 2, 27, 0, 0),\n",
       "                          datetime.datetime(2024, 2, 28, 0, 0),\n",
       "                          datetime.datetime(2024, 2, 29, 0, 0),\n",
       "                          datetime.datetime(2024, 3, 1, 0, 0),\n",
       "                          datetime.datetime(2024, 3, 2, 0, 0),\n",
       "                          datetime.datetime(2024, 3, 3, 0, 0),\n",
       "                          datetime.datetime(2024, 3, 4, 0, 0),\n",
       "                          datetime.datetime(2024, 3, 5, 0, 0),\n",
       "                          datetime.datetime(2024, 3, 6, 0, 0),\n",
       "                          datetime.datetime(2024, 3, 7, 0, 0),\n",
       "                          datetime.datetime(2024, 3, 8, 0, 0),\n",
       "                          datetime.datetime(2024, 3, 9, 0, 0),\n",
       "                          datetime.datetime(2024, 3, 10, 0, 0),\n",
       "                          datetime.datetime(2024, 3, 11, 0, 0),\n",
       "                          datetime.datetime(2024, 3, 12, 0, 0),\n",
       "                          datetime.datetime(2024, 3, 13, 0, 0),\n",
       "                          datetime.datetime(2024, 3, 14, 0, 0),\n",
       "                          datetime.datetime(2024, 3, 15, 0, 0),\n",
       "                          datetime.datetime(2024, 3, 16, 0, 0),\n",
       "                          datetime.datetime(2024, 3, 17, 0, 0),\n",
       "                          datetime.datetime(2024, 3, 18, 0, 0),\n",
       "                          datetime.datetime(2024, 3, 19, 0, 0),\n",
       "                          datetime.datetime(2024, 3, 20, 0, 0),\n",
       "                          datetime.datetime(2024, 3, 21, 0, 0),\n",
       "                          datetime.datetime(2024, 3, 22, 0, 0),\n",
       "                          datetime.datetime(2024, 3, 23, 0, 0),\n",
       "                          datetime.datetime(2024, 3, 24, 0, 0),\n",
       "                          datetime.datetime(2024, 3, 25, 0, 0),\n",
       "                          datetime.datetime(2024, 3, 26, 0, 0),\n",
       "                          datetime.datetime(2024, 3, 27, 0, 0),\n",
       "                          datetime.datetime(2024, 3, 28, 0, 0),\n",
       "                          datetime.datetime(2024, 3, 29, 0, 0),\n",
       "                          datetime.datetime(2024, 3, 30, 0, 0),\n",
       "                          datetime.datetime(2024, 3, 31, 0, 0),\n",
       "                          datetime.datetime(2024, 4, 1, 0, 0),\n",
       "                          datetime.datetime(2024, 4, 2, 0, 0),\n",
       "                          datetime.datetime(2024, 4, 3, 0, 0),\n",
       "                          datetime.datetime(2024, 4, 4, 0, 0),\n",
       "                          datetime.datetime(2024, 4, 5, 0, 0),\n",
       "                          datetime.datetime(2024, 4, 6, 0, 0),\n",
       "                          datetime.datetime(2024, 4, 7, 0, 0),\n",
       "                          datetime.datetime(2024, 4, 8, 0, 0),\n",
       "                          datetime.datetime(2024, 4, 9, 0, 0)], dtype=object),\n",
       "              'xaxis': 'x',\n",
       "              'y': array([ 0.00000000e+00,  1.88371559e+00,  3.75999701e+00,  5.62143944e+00,\n",
       "                           7.46069661e+00,  9.27050983e+00,  1.10437366e+01,  1.27733787e+01,\n",
       "                           1.44526102e+01,  1.60748038e+01,  1.76335576e+01,  1.91227197e+01,\n",
       "                           2.05364132e+01,  2.18690588e+01,  2.31153973e+01,  2.42705098e+01,\n",
       "                           2.53298378e+01,  2.62892004e+01,  2.71448116e+01,  2.78932946e+01,\n",
       "                           2.85316955e+01,  2.90574948e+01,  2.94686175e+01,  2.97634410e+01,\n",
       "                           2.99408019e+01,  3.00000000e+01,  2.99408019e+01,  2.97634410e+01,\n",
       "                           2.94686175e+01,  2.90574948e+01,  2.85316955e+01,  2.78932946e+01,\n",
       "                           2.71448116e+01,  2.62892004e+01,  2.53298378e+01,  2.42705098e+01,\n",
       "                           2.31153973e+01,  2.18690588e+01,  2.05364132e+01,  1.91227197e+01,\n",
       "                           1.76335576e+01,  1.60748038e+01,  1.44526102e+01,  1.27733787e+01,\n",
       "                           1.10437366e+01,  9.27050983e+00,  7.46069661e+00,  5.62143944e+00,\n",
       "                           3.75999701e+00,  1.88371559e+00,  3.67394040e-15, -1.88371559e+00,\n",
       "                          -3.75999701e+00, -5.62143944e+00, -7.46069661e+00, -9.27050983e+00,\n",
       "                          -1.10437366e+01, -1.27733787e+01, -1.44526102e+01, -1.60748038e+01,\n",
       "                          -1.76335576e+01, -1.91227197e+01, -2.05364132e+01, -2.18690588e+01,\n",
       "                          -2.31153973e+01, -2.42705098e+01, -2.53298378e+01, -2.62892004e+01,\n",
       "                          -2.71448116e+01, -2.78932946e+01, -2.85316955e+01, -2.90574948e+01,\n",
       "                          -2.94686175e+01, -2.97634410e+01, -2.99408019e+01, -3.00000000e+01,\n",
       "                          -2.99408019e+01, -2.97634410e+01, -2.94686175e+01, -2.90574948e+01,\n",
       "                          -2.85316955e+01, -2.78932946e+01, -2.71448116e+01, -2.62892004e+01,\n",
       "                          -2.53298378e+01, -2.42705098e+01, -2.31153973e+01, -2.18690588e+01,\n",
       "                          -2.05364132e+01, -1.91227197e+01, -1.76335576e+01, -1.60748038e+01,\n",
       "                          -1.44526102e+01, -1.27733787e+01, -1.10437366e+01, -9.27050983e+00,\n",
       "                          -7.46069661e+00, -5.62143944e+00, -3.75999701e+00, -1.88371559e+00]),\n",
       "              'yaxis': 'y'}],\n",
       "    'layout': {'legend': {'title': {'text': 'variable'}, 'tracegroupgap': 0},\n",
       "               'margin': {'t': 60},\n",
       "               'template': '...',\n",
       "               'xaxis': {'anchor': 'y', 'domain': [0.0, 1.0], 'title': {'text': 'Date'}},\n",
       "               'yaxis': {'anchor': 'x', 'domain': [0.0, 1.0], 'title': {'text': 'Step count'}}}\n",
       "})"
      ]
     },
     "execution_count": 10,
     "metadata": {},
     "output_type": "execute_result"
    }
   ],
   "source": [
    "import streamlit as st\n",
    "import numpy as np\n",
    "import pandas as pd\n",
    "import plotly.express as px\n",
    "import forecast as fc\n",
    "\n",
    "N = 100\n",
    "# create random x and y values\n",
    "start_date = pd.to_datetime('2024-01-01')\n",
    "dates = pd.date_range(start=start_date, periods=N , freq='D')\n",
    "y = [30 * np.sin(2 * np.pi * i / 100) + 10 * np.random.randn() for i, _ in enumerate(dates)]\n",
    "y_hat = [30 * np.sin(2 * np.pi * i / 100) for i, _ in enumerate(dates)]\n",
    "df = pd.DataFrame({'Date':dates, 'step count':y, 'predicted step count':y_hat})\n",
    "fig = px.scatter(df, x='Date', y=['step count', 'predicted step count'], color_discrete_map={'predicted step count':'orange'})\n",
    "fig.update_yaxes(title_text='Step count')\n",
    "\n",
    "\n",
    "\n",
    "# https://www.statsmodels.org/stable/generated/statsmodels.tsa.arima.model.ARIMA.html"
   ]
  },
  {
   "cell_type": "code",
   "execution_count": 11,
   "metadata": {},
   "outputs": [
    {
     "ename": "ValueError",
     "evalue": "Mime type rendering requires nbformat>=4.2.0 but it is not installed",
     "output_type": "error",
     "traceback": [
      "\u001b[0;31m---------------------------------------------------------------------------\u001b[0m",
      "\u001b[0;31mValueError\u001b[0m                                Traceback (most recent call last)",
      "File \u001b[0;32m~/Documents/github-local/streamlitcsvupload/python_env/lib/python3.11/site-packages/IPython/core/formatters.py:925\u001b[0m, in \u001b[0;36mIPythonDisplayFormatter.__call__\u001b[0;34m(self, obj)\u001b[0m\n\u001b[1;32m    923\u001b[0m method \u001b[38;5;241m=\u001b[39m get_real_method(obj, \u001b[38;5;28mself\u001b[39m\u001b[38;5;241m.\u001b[39mprint_method)\n\u001b[1;32m    924\u001b[0m \u001b[38;5;28;01mif\u001b[39;00m method \u001b[38;5;129;01mis\u001b[39;00m \u001b[38;5;129;01mnot\u001b[39;00m \u001b[38;5;28;01mNone\u001b[39;00m:\n\u001b[0;32m--> 925\u001b[0m     \u001b[43mmethod\u001b[49m\u001b[43m(\u001b[49m\u001b[43m)\u001b[49m\n\u001b[1;32m    926\u001b[0m     \u001b[38;5;28;01mreturn\u001b[39;00m \u001b[38;5;28;01mTrue\u001b[39;00m\n",
      "File \u001b[0;32m~/Documents/github-local/streamlitcsvupload/python_env/lib/python3.11/site-packages/plotly/basedatatypes.py:832\u001b[0m, in \u001b[0;36mBaseFigure._ipython_display_\u001b[0;34m(self)\u001b[0m\n\u001b[1;32m    829\u001b[0m \u001b[38;5;28;01mimport\u001b[39;00m \u001b[38;5;21;01mplotly\u001b[39;00m\u001b[38;5;21;01m.\u001b[39;00m\u001b[38;5;21;01mio\u001b[39;00m \u001b[38;5;28;01mas\u001b[39;00m \u001b[38;5;21;01mpio\u001b[39;00m\n\u001b[1;32m    831\u001b[0m \u001b[38;5;28;01mif\u001b[39;00m pio\u001b[38;5;241m.\u001b[39mrenderers\u001b[38;5;241m.\u001b[39mrender_on_display \u001b[38;5;129;01mand\u001b[39;00m pio\u001b[38;5;241m.\u001b[39mrenderers\u001b[38;5;241m.\u001b[39mdefault:\n\u001b[0;32m--> 832\u001b[0m     \u001b[43mpio\u001b[49m\u001b[38;5;241;43m.\u001b[39;49m\u001b[43mshow\u001b[49m\u001b[43m(\u001b[49m\u001b[38;5;28;43mself\u001b[39;49m\u001b[43m)\u001b[49m\n\u001b[1;32m    833\u001b[0m \u001b[38;5;28;01melse\u001b[39;00m:\n\u001b[1;32m    834\u001b[0m     \u001b[38;5;28mprint\u001b[39m(\u001b[38;5;28mrepr\u001b[39m(\u001b[38;5;28mself\u001b[39m))\n",
      "File \u001b[0;32m~/Documents/github-local/streamlitcsvupload/python_env/lib/python3.11/site-packages/plotly/io/_renderers.py:394\u001b[0m, in \u001b[0;36mshow\u001b[0;34m(fig, renderer, validate, **kwargs)\u001b[0m\n\u001b[1;32m    389\u001b[0m         \u001b[38;5;28;01mraise\u001b[39;00m \u001b[38;5;167;01mValueError\u001b[39;00m(\n\u001b[1;32m    390\u001b[0m             \u001b[38;5;124m\"\u001b[39m\u001b[38;5;124mMime type rendering requires ipython but it is not installed\u001b[39m\u001b[38;5;124m\"\u001b[39m\n\u001b[1;32m    391\u001b[0m         )\n\u001b[1;32m    393\u001b[0m     \u001b[38;5;28;01mif\u001b[39;00m \u001b[38;5;129;01mnot\u001b[39;00m nbformat \u001b[38;5;129;01mor\u001b[39;00m Version(nbformat\u001b[38;5;241m.\u001b[39m__version__) \u001b[38;5;241m<\u001b[39m Version(\u001b[38;5;124m\"\u001b[39m\u001b[38;5;124m4.2.0\u001b[39m\u001b[38;5;124m\"\u001b[39m):\n\u001b[0;32m--> 394\u001b[0m         \u001b[38;5;28;01mraise\u001b[39;00m \u001b[38;5;167;01mValueError\u001b[39;00m(\n\u001b[1;32m    395\u001b[0m             \u001b[38;5;124m\"\u001b[39m\u001b[38;5;124mMime type rendering requires nbformat>=4.2.0 but it is not installed\u001b[39m\u001b[38;5;124m\"\u001b[39m\n\u001b[1;32m    396\u001b[0m         )\n\u001b[1;32m    398\u001b[0m     ipython_display\u001b[38;5;241m.\u001b[39mdisplay(bundle, raw\u001b[38;5;241m=\u001b[39m\u001b[38;5;28;01mTrue\u001b[39;00m)\n\u001b[1;32m    400\u001b[0m \u001b[38;5;66;03m# external renderers\u001b[39;00m\n",
      "\u001b[0;31mValueError\u001b[0m: Mime type rendering requires nbformat>=4.2.0 but it is not installed"
     ]
    },
    {
     "data": {
      "application/vnd.plotly.v1+json": {
       "config": {
        "plotlyServerURL": "https://plot.ly"
       },
       "data": [
        {
         "hovertemplate": "Date=%{x}<br>step count=%{y}<extra></extra>",
         "legendgroup": "",
         "marker": {
          "color": "#000001",
          "symbol": "circle"
         },
         "mode": "markers",
         "name": "",
         "orientation": "v",
         "showlegend": false,
         "type": "scatter",
         "x": [
          0,
          1,
          2,
          3,
          4,
          5,
          6,
          7,
          8,
          9,
          10,
          11,
          12,
          13,
          14,
          15,
          16,
          17,
          18,
          19,
          20,
          21,
          22,
          23,
          24,
          25,
          26,
          27,
          28,
          29,
          30,
          31,
          32,
          33,
          34,
          35,
          36,
          37,
          38,
          39,
          40,
          41,
          42,
          43,
          44,
          45,
          46,
          47,
          48,
          49,
          50,
          51,
          52,
          53,
          54,
          55,
          56,
          57,
          58,
          59,
          60,
          61,
          62,
          63,
          64,
          65,
          66,
          67,
          68,
          69,
          70,
          71,
          72,
          73,
          74,
          75,
          76,
          77,
          78,
          79,
          80,
          81,
          82,
          83,
          84,
          85,
          86,
          87,
          88,
          89,
          90,
          91,
          92,
          93,
          94,
          95,
          96,
          97,
          98,
          99
         ],
         "xaxis": "x",
         "y": [
          0.20097563335712748,
          0.20097563335712748,
          0.20097563335712748,
          0.20097563335712748,
          0.20097563335712748,
          0.20097563335712748,
          0.20097563335712748,
          0.20097563335712748,
          0.20097563335712748,
          0.20097563335712748,
          0.20097563335712748,
          0.20097563335712748,
          0.20097563335712748,
          0.20097563335712748,
          0.20097563335712748,
          0.20097563335712748,
          0.20097563335712748,
          0.20097563335712748,
          0.20097563335712748,
          0.20097563335712748,
          0.20097563335712748,
          0.20097563335712748,
          0.20097563335712748,
          0.20097563335712748,
          0.20097563335712748,
          0.20097563335712748,
          0.20097563335712748,
          0.20097563335712748,
          0.20097563335712748,
          0.20097563335712748,
          0.20097563335712748,
          0.20097563335712748,
          0.20097563335712748,
          0.20097563335712748,
          0.20097563335712748,
          0.20097563335712748,
          0.20097563335712748,
          0.20097563335712748,
          0.20097563335712748,
          0.20097563335712748,
          0.20097563335712748,
          0.20097563335712748,
          0.20097563335712748,
          0.20097563335712748,
          0.20097563335712748,
          0.20097563335712748,
          0.20097563335712748,
          0.20097563335712748,
          0.20097563335712748,
          0.20097563335712748,
          0.20097563335712748,
          0.20097563335712748,
          0.20097563335712748,
          0.20097563335712748,
          0.20097563335712748,
          0.20097563335712748,
          0.20097563335712748,
          0.20097563335712748,
          0.20097563335712748,
          0.20097563335712748,
          0.20097563335712748,
          0.20097563335712748,
          0.20097563335712748,
          0.20097563335712748,
          0.20097563335712748,
          0.20097563335712748,
          0.20097563335712748,
          0.20097563335712748,
          0.20097563335712748,
          0.20097563335712748,
          0.20097563335712748,
          0.20097563335712748,
          0.20097563335712748,
          0.20097563335712748,
          0.20097563335712748,
          0.20097563335712748,
          0.20097563335712748,
          0.20097563335712748,
          0.20097563335712748,
          0.20097563335712748,
          0.20097563335712748,
          0.20097563335712748,
          0.20097563335712748,
          0.20097563335712748,
          0.20097563335712748,
          0.20097563335712748,
          0.20097563335712748,
          0.20097563335712748,
          0.20097563335712748,
          0.20097563335712748,
          0.20097563335712748,
          0.20097563335712748,
          0.20097563335712748,
          0.20097563335712748,
          0.20097563335712748,
          0.20097563335712748,
          0.20097563335712748,
          0.20097563335712748,
          0.20097563335712748,
          0.20097563335712748
         ],
         "yaxis": "y"
        }
       ],
       "layout": {
        "legend": {
         "tracegroupgap": 0
        },
        "margin": {
         "t": 60
        },
        "template": {
         "data": {
          "candlestick": [
           {
            "decreasing": {
             "line": {
              "color": "#000033"
             }
            },
            "increasing": {
             "line": {
              "color": "#000032"
             }
            },
            "type": "candlestick"
           }
          ],
          "contour": [
           {
            "colorscale": [
             [
              0,
              "#000011"
             ],
             [
              0.1111111111111111,
              "#000012"
             ],
             [
              0.2222222222222222,
              "#000013"
             ],
             [
              0.3333333333333333,
              "#000014"
             ],
             [
              0.4444444444444444,
              "#000015"
             ],
             [
              0.5555555555555556,
              "#000016"
             ],
             [
              0.6666666666666666,
              "#000017"
             ],
             [
              0.7777777777777778,
              "#000018"
             ],
             [
              0.8888888888888888,
              "#000019"
             ],
             [
              1,
              "#000020"
             ]
            ],
            "type": "contour"
           }
          ],
          "contourcarpet": [
           {
            "colorscale": [
             [
              0,
              "#000011"
             ],
             [
              0.1111111111111111,
              "#000012"
             ],
             [
              0.2222222222222222,
              "#000013"
             ],
             [
              0.3333333333333333,
              "#000014"
             ],
             [
              0.4444444444444444,
              "#000015"
             ],
             [
              0.5555555555555556,
              "#000016"
             ],
             [
              0.6666666666666666,
              "#000017"
             ],
             [
              0.7777777777777778,
              "#000018"
             ],
             [
              0.8888888888888888,
              "#000019"
             ],
             [
              1,
              "#000020"
             ]
            ],
            "type": "contourcarpet"
           }
          ],
          "heatmap": [
           {
            "colorscale": [
             [
              0,
              "#000011"
             ],
             [
              0.1111111111111111,
              "#000012"
             ],
             [
              0.2222222222222222,
              "#000013"
             ],
             [
              0.3333333333333333,
              "#000014"
             ],
             [
              0.4444444444444444,
              "#000015"
             ],
             [
              0.5555555555555556,
              "#000016"
             ],
             [
              0.6666666666666666,
              "#000017"
             ],
             [
              0.7777777777777778,
              "#000018"
             ],
             [
              0.8888888888888888,
              "#000019"
             ],
             [
              1,
              "#000020"
             ]
            ],
            "type": "heatmap"
           }
          ],
          "histogram2d": [
           {
            "colorscale": [
             [
              0,
              "#000011"
             ],
             [
              0.1111111111111111,
              "#000012"
             ],
             [
              0.2222222222222222,
              "#000013"
             ],
             [
              0.3333333333333333,
              "#000014"
             ],
             [
              0.4444444444444444,
              "#000015"
             ],
             [
              0.5555555555555556,
              "#000016"
             ],
             [
              0.6666666666666666,
              "#000017"
             ],
             [
              0.7777777777777778,
              "#000018"
             ],
             [
              0.8888888888888888,
              "#000019"
             ],
             [
              1,
              "#000020"
             ]
            ],
            "type": "histogram2d"
           }
          ],
          "icicle": [
           {
            "textfont": {
             "color": "white"
            },
            "type": "icicle"
           }
          ],
          "sankey": [
           {
            "textfont": {
             "color": "#000036"
            },
            "type": "sankey"
           }
          ],
          "scatter": [
           {
            "marker": {
             "line": {
              "width": 0
             }
            },
            "type": "scatter"
           }
          ],
          "table": [
           {
            "cells": {
             "fill": {
              "color": "#000038"
             },
             "font": {
              "color": "#000037"
             },
             "line": {
              "color": "#000039"
             }
            },
            "header": {
             "fill": {
              "color": "#000040"
             },
             "font": {
              "color": "#000036"
             },
             "line": {
              "color": "#000039"
             }
            },
            "type": "table"
           }
          ],
          "waterfall": [
           {
            "connector": {
             "line": {
              "color": "#000036",
              "width": 2
             }
            },
            "decreasing": {
             "marker": {
              "color": "#000033"
             }
            },
            "increasing": {
             "marker": {
              "color": "#000032"
             }
            },
            "totals": {
             "marker": {
              "color": "#000034"
             }
            },
            "type": "waterfall"
           }
          ]
         },
         "layout": {
          "coloraxis": {
           "colorscale": [
            [
             0,
             "#000011"
            ],
            [
             0.1111111111111111,
             "#000012"
            ],
            [
             0.2222222222222222,
             "#000013"
            ],
            [
             0.3333333333333333,
             "#000014"
            ],
            [
             0.4444444444444444,
             "#000015"
            ],
            [
             0.5555555555555556,
             "#000016"
            ],
            [
             0.6666666666666666,
             "#000017"
            ],
            [
             0.7777777777777778,
             "#000018"
            ],
            [
             0.8888888888888888,
             "#000019"
            ],
            [
             1,
             "#000020"
            ]
           ]
          },
          "colorscale": {
           "diverging": [
            [
             0,
             "#000021"
            ],
            [
             0.1,
             "#000022"
            ],
            [
             0.2,
             "#000023"
            ],
            [
             0.3,
             "#000024"
            ],
            [
             0.4,
             "#000025"
            ],
            [
             0.5,
             "#000026"
            ],
            [
             0.6,
             "#000027"
            ],
            [
             0.7,
             "#000028"
            ],
            [
             0.8,
             "#000029"
            ],
            [
             0.9,
             "#000030"
            ],
            [
             1,
             "#000031"
            ]
           ],
           "sequential": [
            [
             0,
             "#000011"
            ],
            [
             0.1111111111111111,
             "#000012"
            ],
            [
             0.2222222222222222,
             "#000013"
            ],
            [
             0.3333333333333333,
             "#000014"
            ],
            [
             0.4444444444444444,
             "#000015"
            ],
            [
             0.5555555555555556,
             "#000016"
            ],
            [
             0.6666666666666666,
             "#000017"
            ],
            [
             0.7777777777777778,
             "#000018"
            ],
            [
             0.8888888888888888,
             "#000019"
            ],
            [
             1,
             "#000020"
            ]
           ],
           "sequentialminus": [
            [
             0,
             "#000011"
            ],
            [
             0.1111111111111111,
             "#000012"
            ],
            [
             0.2222222222222222,
             "#000013"
            ],
            [
             0.3333333333333333,
             "#000014"
            ],
            [
             0.4444444444444444,
             "#000015"
            ],
            [
             0.5555555555555556,
             "#000016"
            ],
            [
             0.6666666666666666,
             "#000017"
            ],
            [
             0.7777777777777778,
             "#000018"
            ],
            [
             0.8888888888888888,
             "#000019"
            ],
            [
             1,
             "#000020"
            ]
           ]
          },
          "colorway": [
           "#000001",
           "#000002",
           "#000003",
           "#000004",
           "#000005",
           "#000006",
           "#000007",
           "#000008",
           "#000009",
           "#000010"
          ]
         }
        },
        "xaxis": {
         "anchor": "y",
         "domain": [
          0,
          1
         ],
         "title": {
          "text": "Date"
         }
        },
        "yaxis": {
         "anchor": "x",
         "domain": [
          0,
          1
         ],
         "title": {
          "text": "Step count"
         }
        }
       }
      },
      "text/html": [
       "<div>                        <script type=\"text/javascript\">window.PlotlyConfig = {MathJaxConfig: 'local'};</script>\n",
       "        <script charset=\"utf-8\" src=\"https://cdn.plot.ly/plotly-2.35.0.min.js\"></script>                <div id=\"bc053060-1eab-4ad7-bad1-789e1f9b1467\" class=\"plotly-graph-div\" style=\"height:100%; width:100%;\"></div>            <script type=\"text/javascript\">                                    window.PLOTLYENV=window.PLOTLYENV || {};                                    if (document.getElementById(\"bc053060-1eab-4ad7-bad1-789e1f9b1467\")) {                    Plotly.newPlot(                        \"bc053060-1eab-4ad7-bad1-789e1f9b1467\",                        [{\"hovertemplate\":\"Date=%{x}\\u003cbr\\u003estep count=%{y}\\u003cextra\\u003e\\u003c\\u002fextra\\u003e\",\"legendgroup\":\"\",\"marker\":{\"color\":\"#000001\",\"symbol\":\"circle\"},\"mode\":\"markers\",\"name\":\"\",\"orientation\":\"v\",\"showlegend\":false,\"x\":[0,1,2,3,4,5,6,7,8,9,10,11,12,13,14,15,16,17,18,19,20,21,22,23,24,25,26,27,28,29,30,31,32,33,34,35,36,37,38,39,40,41,42,43,44,45,46,47,48,49,50,51,52,53,54,55,56,57,58,59,60,61,62,63,64,65,66,67,68,69,70,71,72,73,74,75,76,77,78,79,80,81,82,83,84,85,86,87,88,89,90,91,92,93,94,95,96,97,98,99],\"xaxis\":\"x\",\"y\":[0.20097563335712748,0.20097563335712748,0.20097563335712748,0.20097563335712748,0.20097563335712748,0.20097563335712748,0.20097563335712748,0.20097563335712748,0.20097563335712748,0.20097563335712748,0.20097563335712748,0.20097563335712748,0.20097563335712748,0.20097563335712748,0.20097563335712748,0.20097563335712748,0.20097563335712748,0.20097563335712748,0.20097563335712748,0.20097563335712748,0.20097563335712748,0.20097563335712748,0.20097563335712748,0.20097563335712748,0.20097563335712748,0.20097563335712748,0.20097563335712748,0.20097563335712748,0.20097563335712748,0.20097563335712748,0.20097563335712748,0.20097563335712748,0.20097563335712748,0.20097563335712748,0.20097563335712748,0.20097563335712748,0.20097563335712748,0.20097563335712748,0.20097563335712748,0.20097563335712748,0.20097563335712748,0.20097563335712748,0.20097563335712748,0.20097563335712748,0.20097563335712748,0.20097563335712748,0.20097563335712748,0.20097563335712748,0.20097563335712748,0.20097563335712748,0.20097563335712748,0.20097563335712748,0.20097563335712748,0.20097563335712748,0.20097563335712748,0.20097563335712748,0.20097563335712748,0.20097563335712748,0.20097563335712748,0.20097563335712748,0.20097563335712748,0.20097563335712748,0.20097563335712748,0.20097563335712748,0.20097563335712748,0.20097563335712748,0.20097563335712748,0.20097563335712748,0.20097563335712748,0.20097563335712748,0.20097563335712748,0.20097563335712748,0.20097563335712748,0.20097563335712748,0.20097563335712748,0.20097563335712748,0.20097563335712748,0.20097563335712748,0.20097563335712748,0.20097563335712748,0.20097563335712748,0.20097563335712748,0.20097563335712748,0.20097563335712748,0.20097563335712748,0.20097563335712748,0.20097563335712748,0.20097563335712748,0.20097563335712748,0.20097563335712748,0.20097563335712748,0.20097563335712748,0.20097563335712748,0.20097563335712748,0.20097563335712748,0.20097563335712748,0.20097563335712748,0.20097563335712748,0.20097563335712748,0.20097563335712748],\"yaxis\":\"y\",\"type\":\"scatter\"}],                        {\"template\":{\"data\":{\"candlestick\":[{\"decreasing\":{\"line\":{\"color\":\"#000033\"}},\"increasing\":{\"line\":{\"color\":\"#000032\"}},\"type\":\"candlestick\"}],\"contourcarpet\":[{\"colorscale\":[[0.0,\"#000011\"],[0.1111111111111111,\"#000012\"],[0.2222222222222222,\"#000013\"],[0.3333333333333333,\"#000014\"],[0.4444444444444444,\"#000015\"],[0.5555555555555556,\"#000016\"],[0.6666666666666666,\"#000017\"],[0.7777777777777778,\"#000018\"],[0.8888888888888888,\"#000019\"],[1.0,\"#000020\"]],\"type\":\"contourcarpet\"}],\"contour\":[{\"colorscale\":[[0.0,\"#000011\"],[0.1111111111111111,\"#000012\"],[0.2222222222222222,\"#000013\"],[0.3333333333333333,\"#000014\"],[0.4444444444444444,\"#000015\"],[0.5555555555555556,\"#000016\"],[0.6666666666666666,\"#000017\"],[0.7777777777777778,\"#000018\"],[0.8888888888888888,\"#000019\"],[1.0,\"#000020\"]],\"type\":\"contour\"}],\"heatmap\":[{\"colorscale\":[[0.0,\"#000011\"],[0.1111111111111111,\"#000012\"],[0.2222222222222222,\"#000013\"],[0.3333333333333333,\"#000014\"],[0.4444444444444444,\"#000015\"],[0.5555555555555556,\"#000016\"],[0.6666666666666666,\"#000017\"],[0.7777777777777778,\"#000018\"],[0.8888888888888888,\"#000019\"],[1.0,\"#000020\"]],\"type\":\"heatmap\"}],\"histogram2d\":[{\"colorscale\":[[0.0,\"#000011\"],[0.1111111111111111,\"#000012\"],[0.2222222222222222,\"#000013\"],[0.3333333333333333,\"#000014\"],[0.4444444444444444,\"#000015\"],[0.5555555555555556,\"#000016\"],[0.6666666666666666,\"#000017\"],[0.7777777777777778,\"#000018\"],[0.8888888888888888,\"#000019\"],[1.0,\"#000020\"]],\"type\":\"histogram2d\"}],\"icicle\":[{\"textfont\":{\"color\":\"white\"},\"type\":\"icicle\"}],\"sankey\":[{\"textfont\":{\"color\":\"#000036\"},\"type\":\"sankey\"}],\"scatter\":[{\"marker\":{\"line\":{\"width\":0}},\"type\":\"scatter\"}],\"table\":[{\"cells\":{\"fill\":{\"color\":\"#000038\"},\"font\":{\"color\":\"#000037\"},\"line\":{\"color\":\"#000039\"}},\"header\":{\"fill\":{\"color\":\"#000040\"},\"font\":{\"color\":\"#000036\"},\"line\":{\"color\":\"#000039\"}},\"type\":\"table\"}],\"waterfall\":[{\"connector\":{\"line\":{\"color\":\"#000036\",\"width\":2}},\"decreasing\":{\"marker\":{\"color\":\"#000033\"}},\"increasing\":{\"marker\":{\"color\":\"#000032\"}},\"totals\":{\"marker\":{\"color\":\"#000034\"}},\"type\":\"waterfall\"}]},\"layout\":{\"coloraxis\":{\"colorscale\":[[0.0,\"#000011\"],[0.1111111111111111,\"#000012\"],[0.2222222222222222,\"#000013\"],[0.3333333333333333,\"#000014\"],[0.4444444444444444,\"#000015\"],[0.5555555555555556,\"#000016\"],[0.6666666666666666,\"#000017\"],[0.7777777777777778,\"#000018\"],[0.8888888888888888,\"#000019\"],[1.0,\"#000020\"]]},\"colorscale\":{\"diverging\":[[0.0,\"#000021\"],[0.1,\"#000022\"],[0.2,\"#000023\"],[0.3,\"#000024\"],[0.4,\"#000025\"],[0.5,\"#000026\"],[0.6,\"#000027\"],[0.7,\"#000028\"],[0.8,\"#000029\"],[0.9,\"#000030\"],[1.0,\"#000031\"]],\"sequential\":[[0.0,\"#000011\"],[0.1111111111111111,\"#000012\"],[0.2222222222222222,\"#000013\"],[0.3333333333333333,\"#000014\"],[0.4444444444444444,\"#000015\"],[0.5555555555555556,\"#000016\"],[0.6666666666666666,\"#000017\"],[0.7777777777777778,\"#000018\"],[0.8888888888888888,\"#000019\"],[1.0,\"#000020\"]],\"sequentialminus\":[[0.0,\"#000011\"],[0.1111111111111111,\"#000012\"],[0.2222222222222222,\"#000013\"],[0.3333333333333333,\"#000014\"],[0.4444444444444444,\"#000015\"],[0.5555555555555556,\"#000016\"],[0.6666666666666666,\"#000017\"],[0.7777777777777778,\"#000018\"],[0.8888888888888888,\"#000019\"],[1.0,\"#000020\"]]},\"colorway\":[\"#000001\",\"#000002\",\"#000003\",\"#000004\",\"#000005\",\"#000006\",\"#000007\",\"#000008\",\"#000009\",\"#000010\"]}},\"xaxis\":{\"anchor\":\"y\",\"domain\":[0.0,1.0],\"title\":{\"text\":\"Date\"}},\"yaxis\":{\"anchor\":\"x\",\"domain\":[0.0,1.0],\"title\":{\"text\":\"Step count\"}},\"legend\":{\"tracegroupgap\":0},\"margin\":{\"t\":60}},                        {\"responsive\": true}                    )                };                            </script>        </div>"
      ],
      "text/plain": [
       "Figure({\n",
       "    'data': [{'hovertemplate': 'Date=%{x}<br>step count=%{y}<extra></extra>',\n",
       "              'legendgroup': '',\n",
       "              'marker': {'color': '#000001', 'symbol': 'circle'},\n",
       "              'mode': 'markers',\n",
       "              'name': '',\n",
       "              'orientation': 'v',\n",
       "              'showlegend': False,\n",
       "              'type': 'scatter',\n",
       "              'x': array([ 0,  1,  2,  3,  4,  5,  6,  7,  8,  9, 10, 11, 12, 13, 14, 15, 16, 17,\n",
       "                          18, 19, 20, 21, 22, 23, 24, 25, 26, 27, 28, 29, 30, 31, 32, 33, 34, 35,\n",
       "                          36, 37, 38, 39, 40, 41, 42, 43, 44, 45, 46, 47, 48, 49, 50, 51, 52, 53,\n",
       "                          54, 55, 56, 57, 58, 59, 60, 61, 62, 63, 64, 65, 66, 67, 68, 69, 70, 71,\n",
       "                          72, 73, 74, 75, 76, 77, 78, 79, 80, 81, 82, 83, 84, 85, 86, 87, 88, 89,\n",
       "                          90, 91, 92, 93, 94, 95, 96, 97, 98, 99]),\n",
       "              'xaxis': 'x',\n",
       "              'y': array([0.20097563, 0.20097563, 0.20097563, 0.20097563, 0.20097563, 0.20097563,\n",
       "                          0.20097563, 0.20097563, 0.20097563, 0.20097563, 0.20097563, 0.20097563,\n",
       "                          0.20097563, 0.20097563, 0.20097563, 0.20097563, 0.20097563, 0.20097563,\n",
       "                          0.20097563, 0.20097563, 0.20097563, 0.20097563, 0.20097563, 0.20097563,\n",
       "                          0.20097563, 0.20097563, 0.20097563, 0.20097563, 0.20097563, 0.20097563,\n",
       "                          0.20097563, 0.20097563, 0.20097563, 0.20097563, 0.20097563, 0.20097563,\n",
       "                          0.20097563, 0.20097563, 0.20097563, 0.20097563, 0.20097563, 0.20097563,\n",
       "                          0.20097563, 0.20097563, 0.20097563, 0.20097563, 0.20097563, 0.20097563,\n",
       "                          0.20097563, 0.20097563, 0.20097563, 0.20097563, 0.20097563, 0.20097563,\n",
       "                          0.20097563, 0.20097563, 0.20097563, 0.20097563, 0.20097563, 0.20097563,\n",
       "                          0.20097563, 0.20097563, 0.20097563, 0.20097563, 0.20097563, 0.20097563,\n",
       "                          0.20097563, 0.20097563, 0.20097563, 0.20097563, 0.20097563, 0.20097563,\n",
       "                          0.20097563, 0.20097563, 0.20097563, 0.20097563, 0.20097563, 0.20097563,\n",
       "                          0.20097563, 0.20097563, 0.20097563, 0.20097563, 0.20097563, 0.20097563,\n",
       "                          0.20097563, 0.20097563, 0.20097563, 0.20097563, 0.20097563, 0.20097563,\n",
       "                          0.20097563, 0.20097563, 0.20097563, 0.20097563, 0.20097563, 0.20097563,\n",
       "                          0.20097563, 0.20097563, 0.20097563, 0.20097563]),\n",
       "              'yaxis': 'y'}],\n",
       "    'layout': {'legend': {'tracegroupgap': 0},\n",
       "               'margin': {'t': 60},\n",
       "               'template': '...',\n",
       "               'xaxis': {'anchor': 'y', 'domain': [0.0, 1.0], 'title': {'text': 'Date'}},\n",
       "               'yaxis': {'anchor': 'x', 'domain': [0.0, 1.0], 'title': {'text': 'Step count'}}}\n",
       "})"
      ]
     },
     "execution_count": 11,
     "metadata": {},
     "output_type": "execute_result"
    }
   ],
   "source": [
    "# Forecast\n",
    "forecast = fc.forecast(df,steps=100)\n",
    "# plot the forecast\n",
    "forecast_df = pd.DataFrame({'Date':[i for i in range(len(forecast))], 'step count':forecast})\n",
    "fig = px.scatter(forecast_df, x='Date', y='step count')\n",
    "fig.update_yaxes(title_text='Step count')"
   ]
  },
  {
   "cell_type": "code",
   "execution_count": null,
   "metadata": {},
   "outputs": [],
   "source": [
    "# Forecast\n",
    "forecast = fc.forecast(df,steps=100)\n",
    "# plot the forecast\n",
    "forecast_df = pd.DataFrame({'Date':[i for i in range(len(forecast))], 'step count':forecast})\n",
    "fig = px.scatter(forecast_df, x='Date', y='step count')\n",
    "fig.update_yaxes(title_text='Step count')"
   ]
  }
 ],
 "metadata": {
  "kernelspec": {
   "display_name": "python_env",
   "language": "python",
   "name": "python3"
  },
  "language_info": {
   "codemirror_mode": {
    "name": "ipython",
    "version": 3
   },
   "file_extension": ".py",
   "mimetype": "text/x-python",
   "name": "python",
   "nbconvert_exporter": "python",
   "pygments_lexer": "ipython3",
   "version": "3.11.9"
  }
 },
 "nbformat": 4,
 "nbformat_minor": 2
}
